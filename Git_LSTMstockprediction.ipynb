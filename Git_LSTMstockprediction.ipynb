{
  "nbformat": 4,
  "nbformat_minor": 0,
  "metadata": {
    "colab": {
      "provenance": [],
      "authorship_tag": "ABX9TyOBYbhps9q6hQLZ4CAVyTuS",
      "include_colab_link": true
    },
    "kernelspec": {
      "name": "python3",
      "display_name": "Python 3"
    },
    "language_info": {
      "name": "python"
    }
  },
  "cells": [
    {
      "cell_type": "markdown",
      "metadata": {
        "id": "view-in-github",
        "colab_type": "text"
      },
      "source": [
        "<a href=\"https://colab.research.google.com/github/abwasker/AnotionToPonder/blob/master/Git_LSTMstockprediction.ipynb\" target=\"_parent\"><img src=\"https://colab.research.google.com/assets/colab-badge.svg\" alt=\"Open In Colab\"/></a>"
      ]
    },
    {
      "cell_type": "code",
      "execution_count": null,
      "metadata": {
        "id": "ZaHRVbTYARZ1"
      },
      "outputs": [],
      "source": []
    },
    {
      "cell_type": "markdown",
      "source": [
        "Stock Market Predection using stacked LSTM"
      ],
      "metadata": {
        "id": "OQ9exDTbASQ_"
      }
    },
    {
      "cell_type": "code",
      "source": [
        "import pandas_datareader as pdr"
      ],
      "metadata": {
        "id": "Llg0Gj7vAXCS"
      },
      "execution_count": null,
      "outputs": []
    },
    {
      "cell_type": "code",
      "source": [
        "key=\"xxxxxxxxxxxxxxxxxxxxxxxxxxxxxxxxxxxxxxxx\"\n",
        "\n",
        "df = pdr.get_data_tiingo('INFY', api_key=key)\n",
        "df1.to_csv('INFY.csv')\n",
        "df1.head()"
      ],
      "metadata": {
        "colab": {
          "base_uri": "https://localhost:8080/",
          "height": 423
        },
        "id": "dJx61s0JAmgG",
        "outputId": "3e299ef5-47e3-4b45-81e5-6fb4efd5079c"
      },
      "execution_count": null,
      "outputs": [
        {
          "output_type": "stream",
          "name": "stderr",
          "text": [
            "<ipython-input-2-ea0c0fa9ec63>:2: FutureWarning: In a future version of pandas all arguments of concat except for the argument 'objs' will be keyword-only.\n",
            "  df1 = pdr.get_data_tiingo('INFY', api_key=key)\n"
          ]
        },
        {
          "output_type": "execute_result",
          "data": {
            "text/plain": [
              "                                  close   high    low   open   volume  \\\n",
              "symbol date                                                             \n",
              "INFY   2018-08-06 00:00:00+00:00  20.59  20.61  20.32  20.43  3288795   \n",
              "       2018-08-07 00:00:00+00:00  20.60  20.66  20.30  20.65  4578874   \n",
              "       2018-08-08 00:00:00+00:00  20.75  20.86  20.53  20.60  3745564   \n",
              "       2018-08-09 00:00:00+00:00  20.90  20.98  20.82  20.85  2814896   \n",
              "       2018-08-10 00:00:00+00:00  20.80  20.84  20.67  20.71  2217667   \n",
              "\n",
              "                                  adjClose   adjHigh    adjLow   adjOpen  \\\n",
              "symbol date                                                                \n",
              "INFY   2018-08-06 00:00:00+00:00  9.123634  9.132496  9.003994  9.052736   \n",
              "       2018-08-07 00:00:00+00:00  9.128065  9.154651  8.995132  9.150220   \n",
              "       2018-08-08 00:00:00+00:00  9.194531  9.243273  9.097047  9.128065   \n",
              "       2018-08-09 00:00:00+00:00  9.260998  9.296447  9.225549  9.238842   \n",
              "       2018-08-10 00:00:00+00:00  9.216687  9.234411  9.159083  9.176807   \n",
              "\n",
              "                                  adjVolume  divCash  splitFactor  \n",
              "symbol date                                                        \n",
              "INFY   2018-08-06 00:00:00+00:00    6577590      0.0          1.0  \n",
              "       2018-08-07 00:00:00+00:00    9157748      0.0          1.0  \n",
              "       2018-08-08 00:00:00+00:00    7491128      0.0          1.0  \n",
              "       2018-08-09 00:00:00+00:00    5629792      0.0          1.0  \n",
              "       2018-08-10 00:00:00+00:00    4435334      0.0          1.0  "
            ],
            "text/html": [
              "\n",
              "\n",
              "  <div id=\"df-0847a194-c0f0-4e31-a820-df9b8f5a1e1a\">\n",
              "    <div class=\"colab-df-container\">\n",
              "      <div>\n",
              "<style scoped>\n",
              "    .dataframe tbody tr th:only-of-type {\n",
              "        vertical-align: middle;\n",
              "    }\n",
              "\n",
              "    .dataframe tbody tr th {\n",
              "        vertical-align: top;\n",
              "    }\n",
              "\n",
              "    .dataframe thead th {\n",
              "        text-align: right;\n",
              "    }\n",
              "</style>\n",
              "<table border=\"1\" class=\"dataframe\">\n",
              "  <thead>\n",
              "    <tr style=\"text-align: right;\">\n",
              "      <th></th>\n",
              "      <th></th>\n",
              "      <th>close</th>\n",
              "      <th>high</th>\n",
              "      <th>low</th>\n",
              "      <th>open</th>\n",
              "      <th>volume</th>\n",
              "      <th>adjClose</th>\n",
              "      <th>adjHigh</th>\n",
              "      <th>adjLow</th>\n",
              "      <th>adjOpen</th>\n",
              "      <th>adjVolume</th>\n",
              "      <th>divCash</th>\n",
              "      <th>splitFactor</th>\n",
              "    </tr>\n",
              "    <tr>\n",
              "      <th>symbol</th>\n",
              "      <th>date</th>\n",
              "      <th></th>\n",
              "      <th></th>\n",
              "      <th></th>\n",
              "      <th></th>\n",
              "      <th></th>\n",
              "      <th></th>\n",
              "      <th></th>\n",
              "      <th></th>\n",
              "      <th></th>\n",
              "      <th></th>\n",
              "      <th></th>\n",
              "      <th></th>\n",
              "    </tr>\n",
              "  </thead>\n",
              "  <tbody>\n",
              "    <tr>\n",
              "      <th rowspan=\"5\" valign=\"top\">INFY</th>\n",
              "      <th>2018-08-06 00:00:00+00:00</th>\n",
              "      <td>20.59</td>\n",
              "      <td>20.61</td>\n",
              "      <td>20.32</td>\n",
              "      <td>20.43</td>\n",
              "      <td>3288795</td>\n",
              "      <td>9.123634</td>\n",
              "      <td>9.132496</td>\n",
              "      <td>9.003994</td>\n",
              "      <td>9.052736</td>\n",
              "      <td>6577590</td>\n",
              "      <td>0.0</td>\n",
              "      <td>1.0</td>\n",
              "    </tr>\n",
              "    <tr>\n",
              "      <th>2018-08-07 00:00:00+00:00</th>\n",
              "      <td>20.60</td>\n",
              "      <td>20.66</td>\n",
              "      <td>20.30</td>\n",
              "      <td>20.65</td>\n",
              "      <td>4578874</td>\n",
              "      <td>9.128065</td>\n",
              "      <td>9.154651</td>\n",
              "      <td>8.995132</td>\n",
              "      <td>9.150220</td>\n",
              "      <td>9157748</td>\n",
              "      <td>0.0</td>\n",
              "      <td>1.0</td>\n",
              "    </tr>\n",
              "    <tr>\n",
              "      <th>2018-08-08 00:00:00+00:00</th>\n",
              "      <td>20.75</td>\n",
              "      <td>20.86</td>\n",
              "      <td>20.53</td>\n",
              "      <td>20.60</td>\n",
              "      <td>3745564</td>\n",
              "      <td>9.194531</td>\n",
              "      <td>9.243273</td>\n",
              "      <td>9.097047</td>\n",
              "      <td>9.128065</td>\n",
              "      <td>7491128</td>\n",
              "      <td>0.0</td>\n",
              "      <td>1.0</td>\n",
              "    </tr>\n",
              "    <tr>\n",
              "      <th>2018-08-09 00:00:00+00:00</th>\n",
              "      <td>20.90</td>\n",
              "      <td>20.98</td>\n",
              "      <td>20.82</td>\n",
              "      <td>20.85</td>\n",
              "      <td>2814896</td>\n",
              "      <td>9.260998</td>\n",
              "      <td>9.296447</td>\n",
              "      <td>9.225549</td>\n",
              "      <td>9.238842</td>\n",
              "      <td>5629792</td>\n",
              "      <td>0.0</td>\n",
              "      <td>1.0</td>\n",
              "    </tr>\n",
              "    <tr>\n",
              "      <th>2018-08-10 00:00:00+00:00</th>\n",
              "      <td>20.80</td>\n",
              "      <td>20.84</td>\n",
              "      <td>20.67</td>\n",
              "      <td>20.71</td>\n",
              "      <td>2217667</td>\n",
              "      <td>9.216687</td>\n",
              "      <td>9.234411</td>\n",
              "      <td>9.159083</td>\n",
              "      <td>9.176807</td>\n",
              "      <td>4435334</td>\n",
              "      <td>0.0</td>\n",
              "      <td>1.0</td>\n",
              "    </tr>\n",
              "  </tbody>\n",
              "</table>\n",
              "</div>\n",
              "      <button class=\"colab-df-convert\" onclick=\"convertToInteractive('df-0847a194-c0f0-4e31-a820-df9b8f5a1e1a')\"\n",
              "              title=\"Convert this dataframe to an interactive table.\"\n",
              "              style=\"display:none;\">\n",
              "\n",
              "  <svg xmlns=\"http://www.w3.org/2000/svg\" height=\"24px\"viewBox=\"0 0 24 24\"\n",
              "       width=\"24px\">\n",
              "    <path d=\"M0 0h24v24H0V0z\" fill=\"none\"/>\n",
              "    <path d=\"M18.56 5.44l.94 2.06.94-2.06 2.06-.94-2.06-.94-.94-2.06-.94 2.06-2.06.94zm-11 1L8.5 8.5l.94-2.06 2.06-.94-2.06-.94L8.5 2.5l-.94 2.06-2.06.94zm10 10l.94 2.06.94-2.06 2.06-.94-2.06-.94-.94-2.06-.94 2.06-2.06.94z\"/><path d=\"M17.41 7.96l-1.37-1.37c-.4-.4-.92-.59-1.43-.59-.52 0-1.04.2-1.43.59L10.3 9.45l-7.72 7.72c-.78.78-.78 2.05 0 2.83L4 21.41c.39.39.9.59 1.41.59.51 0 1.02-.2 1.41-.59l7.78-7.78 2.81-2.81c.8-.78.8-2.07 0-2.86zM5.41 20L4 18.59l7.72-7.72 1.47 1.35L5.41 20z\"/>\n",
              "  </svg>\n",
              "      </button>\n",
              "\n",
              "\n",
              "\n",
              "    <div id=\"df-95ff9d1b-e554-4c22-8b2a-ff5cf6b5733f\">\n",
              "      <button class=\"colab-df-quickchart\" onclick=\"quickchart('df-95ff9d1b-e554-4c22-8b2a-ff5cf6b5733f')\"\n",
              "              title=\"Suggest charts.\"\n",
              "              style=\"display:none;\">\n",
              "\n",
              "<svg xmlns=\"http://www.w3.org/2000/svg\" height=\"24px\"viewBox=\"0 0 24 24\"\n",
              "     width=\"24px\">\n",
              "    <g>\n",
              "        <path d=\"M19 3H5c-1.1 0-2 .9-2 2v14c0 1.1.9 2 2 2h14c1.1 0 2-.9 2-2V5c0-1.1-.9-2-2-2zM9 17H7v-7h2v7zm4 0h-2V7h2v10zm4 0h-2v-4h2v4z\"/>\n",
              "    </g>\n",
              "</svg>\n",
              "      </button>\n",
              "    </div>\n",
              "\n",
              "<style>\n",
              "  .colab-df-quickchart {\n",
              "    background-color: #E8F0FE;\n",
              "    border: none;\n",
              "    border-radius: 50%;\n",
              "    cursor: pointer;\n",
              "    display: none;\n",
              "    fill: #1967D2;\n",
              "    height: 32px;\n",
              "    padding: 0 0 0 0;\n",
              "    width: 32px;\n",
              "  }\n",
              "\n",
              "  .colab-df-quickchart:hover {\n",
              "    background-color: #E2EBFA;\n",
              "    box-shadow: 0px 1px 2px rgba(60, 64, 67, 0.3), 0px 1px 3px 1px rgba(60, 64, 67, 0.15);\n",
              "    fill: #174EA6;\n",
              "  }\n",
              "\n",
              "  [theme=dark] .colab-df-quickchart {\n",
              "    background-color: #3B4455;\n",
              "    fill: #D2E3FC;\n",
              "  }\n",
              "\n",
              "  [theme=dark] .colab-df-quickchart:hover {\n",
              "    background-color: #434B5C;\n",
              "    box-shadow: 0px 1px 3px 1px rgba(0, 0, 0, 0.15);\n",
              "    filter: drop-shadow(0px 1px 2px rgba(0, 0, 0, 0.3));\n",
              "    fill: #FFFFFF;\n",
              "  }\n",
              "</style>\n",
              "\n",
              "    <script>\n",
              "      async function quickchart(key) {\n",
              "        const containerElement = document.querySelector('#' + key);\n",
              "        const charts = await google.colab.kernel.invokeFunction(\n",
              "            'suggestCharts', [key], {});\n",
              "      }\n",
              "    </script>\n",
              "\n",
              "      <script>\n",
              "\n",
              "function displayQuickchartButton(domScope) {\n",
              "  let quickchartButtonEl =\n",
              "    domScope.querySelector('#df-95ff9d1b-e554-4c22-8b2a-ff5cf6b5733f button.colab-df-quickchart');\n",
              "  quickchartButtonEl.style.display =\n",
              "    google.colab.kernel.accessAllowed ? 'block' : 'none';\n",
              "}\n",
              "\n",
              "        displayQuickchartButton(document);\n",
              "      </script>\n",
              "      <style>\n",
              "    .colab-df-container {\n",
              "      display:flex;\n",
              "      flex-wrap:wrap;\n",
              "      gap: 12px;\n",
              "    }\n",
              "\n",
              "    .colab-df-convert {\n",
              "      background-color: #E8F0FE;\n",
              "      border: none;\n",
              "      border-radius: 50%;\n",
              "      cursor: pointer;\n",
              "      display: none;\n",
              "      fill: #1967D2;\n",
              "      height: 32px;\n",
              "      padding: 0 0 0 0;\n",
              "      width: 32px;\n",
              "    }\n",
              "\n",
              "    .colab-df-convert:hover {\n",
              "      background-color: #E2EBFA;\n",
              "      box-shadow: 0px 1px 2px rgba(60, 64, 67, 0.3), 0px 1px 3px 1px rgba(60, 64, 67, 0.15);\n",
              "      fill: #174EA6;\n",
              "    }\n",
              "\n",
              "    [theme=dark] .colab-df-convert {\n",
              "      background-color: #3B4455;\n",
              "      fill: #D2E3FC;\n",
              "    }\n",
              "\n",
              "    [theme=dark] .colab-df-convert:hover {\n",
              "      background-color: #434B5C;\n",
              "      box-shadow: 0px 1px 3px 1px rgba(0, 0, 0, 0.15);\n",
              "      filter: drop-shadow(0px 1px 2px rgba(0, 0, 0, 0.3));\n",
              "      fill: #FFFFFF;\n",
              "    }\n",
              "  </style>\n",
              "\n",
              "      <script>\n",
              "        const buttonEl =\n",
              "          document.querySelector('#df-0847a194-c0f0-4e31-a820-df9b8f5a1e1a button.colab-df-convert');\n",
              "        buttonEl.style.display =\n",
              "          google.colab.kernel.accessAllowed ? 'block' : 'none';\n",
              "\n",
              "        async function convertToInteractive(key) {\n",
              "          const element = document.querySelector('#df-0847a194-c0f0-4e31-a820-df9b8f5a1e1a');\n",
              "          const dataTable =\n",
              "            await google.colab.kernel.invokeFunction('convertToInteractive',\n",
              "                                                     [key], {});\n",
              "          if (!dataTable) return;\n",
              "\n",
              "          const docLinkHtml = 'Like what you see? Visit the ' +\n",
              "            '<a target=\"_blank\" href=https://colab.research.google.com/notebooks/data_table.ipynb>data table notebook</a>'\n",
              "            + ' to learn more about interactive tables.';\n",
              "          element.innerHTML = '';\n",
              "          dataTable['output_type'] = 'display_data';\n",
              "          await google.colab.output.renderOutput(dataTable, element);\n",
              "          const docLink = document.createElement('div');\n",
              "          docLink.innerHTML = docLinkHtml;\n",
              "          element.appendChild(docLink);\n",
              "        }\n",
              "      </script>\n",
              "    </div>\n",
              "  </div>\n"
            ]
          },
          "metadata": {},
          "execution_count": 2
        }
      ]
    },
    {
      "cell_type": "code",
      "source": [
        "import pandas as pd\n"
      ],
      "metadata": {
        "id": "gzd3GhWhAyuF"
      },
      "execution_count": null,
      "outputs": []
    },
    {
      "cell_type": "code",
      "source": [
        "df1=df.reset_index()['close']"
      ],
      "metadata": {
        "id": "heujjrneBEDB"
      },
      "execution_count": null,
      "outputs": []
    },
    {
      "cell_type": "code",
      "source": [
        "df1"
      ],
      "metadata": {
        "id": "Jv1VJBHKBL8y",
        "colab": {
          "base_uri": "https://localhost:8080/"
        },
        "outputId": "4282395f-d52b-431c-a45a-426626ef5cd9"
      },
      "execution_count": null,
      "outputs": [
        {
          "output_type": "execute_result",
          "data": {
            "text/plain": [
              "0       20.59\n",
              "1       20.60\n",
              "2       20.75\n",
              "3       20.90\n",
              "4       20.80\n",
              "        ...  \n",
              "1251    16.63\n",
              "1252    16.46\n",
              "1253    16.66\n",
              "1254    16.80\n",
              "1255    16.52\n",
              "Name: close, Length: 1256, dtype: float64"
            ]
          },
          "metadata": {},
          "execution_count": 7
        }
      ]
    },
    {
      "cell_type": "code",
      "source": [
        "import matplotlib.pyplot as plt\n",
        "plt.plot(df1)"
      ],
      "metadata": {
        "colab": {
          "base_uri": "https://localhost:8080/",
          "height": 447
        },
        "id": "VMlZVIc7BcVu",
        "outputId": "ef7335ee-04fb-47db-9e06-533c0df78f5a"
      },
      "execution_count": null,
      "outputs": [
        {
          "output_type": "execute_result",
          "data": {
            "text/plain": [
              "[<matplotlib.lines.Line2D at 0x7832f9fa8dc0>]"
            ]
          },
          "metadata": {},
          "execution_count": 8
        },
        {
          "output_type": "display_data",
          "data": {
            "text/plain": [
              "<Figure size 640x480 with 1 Axes>"
            ],
            "image/png": "[encoded data removed]"
          },
          "metadata": {}
        }
      ]
    },
    {
      "cell_type": "code",
      "source": [
        "import numpy as np"
      ],
      "metadata": {
        "id": "9gs1keQeBi3I"
      },
      "execution_count": null,
      "outputs": []
    },
    {
      "cell_type": "code",
      "source": [
        "from sklearn.preprocessing import MinMaxScaler\n",
        "scaler = MinMaxScaler(feature_range=(0,1))\n",
        "df1 = scaler.fit_transform(np.array(df1).reshape(-1,1))"
      ],
      "metadata": {
        "id": "0Tf7ECR4Bp3V"
      },
      "execution_count": null,
      "outputs": []
    },
    {
      "cell_type": "code",
      "source": [
        "df1.shape"
      ],
      "metadata": {
        "colab": {
          "base_uri": "https://localhost:8080/"
        },
        "id": "WNSG917aJ-xV",
        "outputId": "09eab55b-0e1f-4bbe-a7a5-ff81a3f2ba2d"
      },
      "execution_count": null,
      "outputs": [
        {
          "output_type": "execute_result",
          "data": {
            "text/plain": [
              "(1256, 1)"
            ]
          },
          "metadata": {},
          "execution_count": 12
        }
      ]
    },
    {
      "cell_type": "code",
      "source": [
        "print(df1)"
      ],
      "metadata": {
        "colab": {
          "base_uri": "https://localhost:8080/"
        },
        "id": "5QyijO0ZKBuz",
        "outputId": "d1f74d1e-8196-4f66-ccfe-ad6bb9520c94"
      },
      "execution_count": null,
      "outputs": [
        {
          "output_type": "stream",
          "name": "stdout",
          "text": [
            "[[0.70872274]\n",
            " [0.70924195]\n",
            " [0.71703011]\n",
            " ...\n",
            " [0.5046729 ]\n",
            " [0.51194185]\n",
            " [0.49740395]]\n"
          ]
        }
      ]
    },
    {
      "cell_type": "code",
      "source": [
        "##splitting dataset into train and test split\n",
        "training_size=int(len(df1)*0.65)\n",
        "test_size=len(df1)-training_size\n",
        "train_data,test_data=df1[0:training_size,:],df1[training_size:len(df1),:1]"
      ],
      "metadata": {
        "id": "Zlrk8COsKImQ"
      },
      "execution_count": null,
      "outputs": []
    },
    {
      "cell_type": "code",
      "source": [
        "training_size,test_size"
      ],
      "metadata": {
        "colab": {
          "base_uri": "https://localhost:8080/"
        },
        "id": "_rNMMiiWK1c2",
        "outputId": "3e86d0c8-1ccc-48fd-c7fb-dce69dc1d15e"
      },
      "execution_count": null,
      "outputs": [
        {
          "output_type": "execute_result",
          "data": {
            "text/plain": [
              "(816, 440)"
            ]
          },
          "metadata": {},
          "execution_count": 16
        }
      ]
    },
    {
      "cell_type": "code",
      "source": [
        "import numpy\n",
        "# convert an array of values into a dataset matrix\n",
        "def create_dataset(dataset, time_step=1):\n",
        "\tdataX, dataY = [], []\n",
        "\tfor i in range(len(dataset)-time_step-1):\n",
        "\t\ta = dataset[i:(i+time_step), 0]   ###i=0, 0,1,2,3-----99   100\n",
        "\t\tdataX.append(a)\n",
        "\t\tdataY.append(dataset[i + time_step, 0])\n",
        "\treturn numpy.array(dataX), numpy.array(dataY)"
      ],
      "metadata": {
        "id": "TNIBqWGnK5bF"
      },
      "execution_count": null,
      "outputs": []
    },
    {
      "cell_type": "code",
      "source": [
        "# reshape into X=t,t+1,t+2,t+3 and Y=t+4\n",
        "time_step = 100\n",
        "X_train, y_train = create_dataset(train_data, time_step)\n",
        "X_test, ytest = create_dataset(test_data, time_step)"
      ],
      "metadata": {
        "id": "U5MZjgwJL48I"
      },
      "execution_count": null,
      "outputs": []
    },
    {
      "cell_type": "code",
      "source": [
        "print(X_train.shape)\n",
        "print(y_train.shape)\n"
      ],
      "metadata": {
        "colab": {
          "base_uri": "https://localhost:8080/"
        },
        "id": "gvcKh8QRL6bs",
        "outputId": "7ebb72da-2626-44a1-ec02-4f3c056a09d7"
      },
      "execution_count": null,
      "outputs": [
        {
          "output_type": "stream",
          "name": "stdout",
          "text": [
            "(715, 100)\n",
            "(715,)\n"
          ]
        }
      ]
    },
    {
      "cell_type": "code",
      "source": [
        "print(X_test.shape)\n",
        "print(ytest.shape)"
      ],
      "metadata": {
        "colab": {
          "base_uri": "https://localhost:8080/"
        },
        "id": "fhXTAR9aMht4",
        "outputId": "c278b109-64b6-43c5-db02-7c127e89e889"
      },
      "execution_count": null,
      "outputs": [
        {
          "output_type": "stream",
          "name": "stdout",
          "text": [
            "(339, 100)\n",
            "(339,)\n"
          ]
        }
      ]
    },
    {
      "cell_type": "code",
      "source": [
        "# reshape input to be [samples, time steps, features] which is required for LSTM\n",
        "X_train =X_train.reshape(X_train.shape[0],X_train.shape[1] , 1)\n",
        "X_test = X_test.reshape(X_test.shape[0],X_test.shape[1] , 1)"
      ],
      "metadata": {
        "id": "xLD2SPNjMmIG"
      },
      "execution_count": null,
      "outputs": []
    },
    {
      "cell_type": "code",
      "source": [
        "### Create the Stacked LSTM model\n",
        "from tensorflow.keras.models import Sequential\n",
        "from tensorflow.keras.layers import Dense\n",
        "from tensorflow.keras.layers import LSTM"
      ],
      "metadata": {
        "id": "j8z3Tw5YNLb4"
      },
      "execution_count": null,
      "outputs": []
    },
    {
      "cell_type": "code",
      "source": [
        "model=Sequential()\n",
        "model.add(LSTM(50,return_sequences=True,input_shape=(100,1)))\n",
        "model.add(LSTM(50,return_sequences=True))\n",
        "model.add(LSTM(50))\n",
        "model.add(Dense(1))\n",
        "model.compile(loss='mean_squared_error',optimizer='adam')"
      ],
      "metadata": {
        "id": "kbh9166ANN-S"
      },
      "execution_count": null,
      "outputs": []
    },
    {
      "cell_type": "code",
      "source": [
        "model.summary()"
      ],
      "metadata": {
        "colab": {
          "base_uri": "https://localhost:8080/"
        },
        "id": "U99w1ydkNgVr",
        "outputId": "01ddcd37-7432-468a-8159-307d6b77a0b2"
      },
      "execution_count": null,
      "outputs": [
        {
          "output_type": "stream",
          "name": "stdout",
          "text": [
            "Model: \"sequential\"\n",
            "_________________________________________________________________\n",
            " Layer (type)                Output Shape              Param #   \n",
            "=================================================================\n",
            " lstm (LSTM)                 (None, 100, 50)           10400     \n",
            "                                                                 \n",
            " lstm_1 (LSTM)               (None, 100, 50)           20200     \n",
            "                                                                 \n",
            " lstm_2 (LSTM)               (None, 50)                20200     \n",
            "                                                                 \n",
            " dense (Dense)               (None, 1)                 51        \n",
            "                                                                 \n",
            "=================================================================\n",
            "Total params: 50,851\n",
            "Trainable params: 50,851\n",
            "Non-trainable params: 0\n",
            "_________________________________________________________________\n"
          ]
        }
      ]
    },
    {
      "cell_type": "code",
      "source": [
        "model.fit(X_train,y_train,validation_data=(X_test,ytest),epochs=100,batch_size=64,verbose=1)"
      ],
      "metadata": {
        "colab": {
          "base_uri": "https://localhost:8080/"
        },
        "id": "IRI9IWicNk3z",
        "outputId": "2a466087-2d59-445e-e415-e33573defff7"
      },
      "execution_count": null,
      "outputs": [
        {
          "output_type": "stream",
          "name": "stdout",
          "text": [
            "Epoch 1/100\n",
            "12/12 [==============================] - 12s 362ms/step - loss: 0.0587 - val_loss: 0.0096\n",
            "Epoch 2/100\n",
            "12/12 [==============================] - 3s 216ms/step - loss: 0.0101 - val_loss: 0.0129\n",
            "Epoch 3/100\n",
            "12/12 [==============================] - 3s 248ms/step - loss: 0.0036 - val_loss: 0.0026\n",
            "Epoch 4/100\n",
            "12/12 [==============================] - 3s 256ms/step - loss: 0.0018 - val_loss: 0.0028\n",
            "Epoch 5/100\n",
            "12/12 [==============================] - 3s 242ms/step - loss: 0.0016 - val_loss: 0.0032\n",
            "Epoch 6/100\n",
            "12/12 [==============================] - 3s 217ms/step - loss: 0.0015 - val_loss: 0.0047\n",
            "Epoch 7/100\n",
            "12/12 [==============================] - 3s 215ms/step - loss: 0.0013 - val_loss: 0.0037\n",
            "Epoch 8/100\n",
            "12/12 [==============================] - 4s 347ms/step - loss: 0.0013 - val_loss: 0.0036\n",
            "Epoch 9/100\n",
            "12/12 [==============================] - 3s 212ms/step - loss: 0.0013 - val_loss: 0.0040\n",
            "Epoch 10/100\n",
            "12/12 [==============================] - 3s 234ms/step - loss: 0.0013 - val_loss: 0.0037\n",
            "Epoch 11/100\n",
            "12/12 [==============================] - 3s 221ms/step - loss: 0.0013 - val_loss: 0.0050\n",
            "Epoch 12/100\n",
            "12/12 [==============================] - 4s 309ms/step - loss: 0.0013 - val_loss: 0.0036\n",
            "Epoch 13/100\n",
            "12/12 [==============================] - 3s 212ms/step - loss: 0.0013 - val_loss: 0.0032\n",
            "Epoch 14/100\n",
            "12/12 [==============================] - 3s 248ms/step - loss: 0.0012 - val_loss: 0.0039\n",
            "Epoch 15/100\n",
            "12/12 [==============================] - 3s 211ms/step - loss: 0.0013 - val_loss: 0.0026\n",
            "Epoch 16/100\n",
            "12/12 [==============================] - 3s 221ms/step - loss: 0.0013 - val_loss: 0.0026\n",
            "Epoch 17/100\n",
            "12/12 [==============================] - 3s 280ms/step - loss: 0.0012 - val_loss: 0.0025\n",
            "Epoch 18/100\n",
            "12/12 [==============================] - 3s 217ms/step - loss: 0.0012 - val_loss: 0.0026\n",
            "Epoch 19/100\n",
            "12/12 [==============================] - 3s 237ms/step - loss: 0.0011 - val_loss: 0.0033\n",
            "Epoch 20/100\n",
            "12/12 [==============================] - 3s 248ms/step - loss: 0.0011 - val_loss: 0.0037\n",
            "Epoch 21/100\n",
            "12/12 [==============================] - 4s 392ms/step - loss: 0.0011 - val_loss: 0.0036\n",
            "Epoch 22/100\n",
            "12/12 [==============================] - 3s 213ms/step - loss: 0.0011 - val_loss: 0.0028\n",
            "Epoch 23/100\n",
            "12/12 [==============================] - 2s 207ms/step - loss: 0.0011 - val_loss: 0.0034\n",
            "Epoch 24/100\n",
            "12/12 [==============================] - 3s 233ms/step - loss: 0.0011 - val_loss: 0.0022\n",
            "Epoch 25/100\n",
            "12/12 [==============================] - 3s 296ms/step - loss: 0.0011 - val_loss: 0.0019\n",
            "Epoch 26/100\n",
            "12/12 [==============================] - 3s 214ms/step - loss: 0.0011 - val_loss: 0.0025\n",
            "Epoch 27/100\n",
            "12/12 [==============================] - 2s 206ms/step - loss: 0.0010 - val_loss: 0.0024\n",
            "Epoch 28/100\n",
            "12/12 [==============================] - 2s 208ms/step - loss: 0.0010 - val_loss: 0.0020\n",
            "Epoch 29/100\n",
            "12/12 [==============================] - 3s 213ms/step - loss: 0.0010 - val_loss: 0.0025\n",
            "Epoch 30/100\n",
            "12/12 [==============================] - 4s 312ms/step - loss: 9.9835e-04 - val_loss: 0.0050\n",
            "Epoch 31/100\n",
            "12/12 [==============================] - 2s 206ms/step - loss: 0.0012 - val_loss: 0.0018\n",
            "Epoch 32/100\n",
            "12/12 [==============================] - 3s 215ms/step - loss: 9.7215e-04 - val_loss: 0.0027\n",
            "Epoch 33/100\n",
            "12/12 [==============================] - 3s 241ms/step - loss: 0.0010 - val_loss: 0.0020\n",
            "Epoch 34/100\n",
            "12/12 [==============================] - 3s 268ms/step - loss: 9.4970e-04 - val_loss: 0.0023\n",
            "Epoch 35/100\n",
            "12/12 [==============================] - 3s 241ms/step - loss: 0.0011 - val_loss: 0.0022\n",
            "Epoch 36/100\n",
            "12/12 [==============================] - 2s 208ms/step - loss: 9.3053e-04 - val_loss: 0.0021\n",
            "Epoch 37/100\n",
            "12/12 [==============================] - 3s 250ms/step - loss: 9.1012e-04 - val_loss: 0.0034\n",
            "Epoch 38/100\n",
            "12/12 [==============================] - 6s 533ms/step - loss: 9.4421e-04 - val_loss: 0.0018\n",
            "Epoch 39/100\n",
            "12/12 [==============================] - 4s 344ms/step - loss: 9.0313e-04 - val_loss: 0.0025\n",
            "Epoch 40/100\n",
            "12/12 [==============================] - 3s 239ms/step - loss: 9.7549e-04 - val_loss: 0.0020\n",
            "Epoch 41/100\n",
            "12/12 [==============================] - 3s 209ms/step - loss: 9.8438e-04 - val_loss: 0.0017\n",
            "Epoch 42/100\n",
            "12/12 [==============================] - 4s 351ms/step - loss: 8.9034e-04 - val_loss: 0.0032\n",
            "Epoch 43/100\n",
            "12/12 [==============================] - 2s 207ms/step - loss: 9.3657e-04 - val_loss: 0.0015\n",
            "Epoch 44/100\n",
            "12/12 [==============================] - 4s 303ms/step - loss: 8.3496e-04 - val_loss: 0.0018\n",
            "Epoch 45/100\n",
            "12/12 [==============================] - 3s 245ms/step - loss: 8.1618e-04 - val_loss: 0.0019\n",
            "Epoch 46/100\n",
            "12/12 [==============================] - 5s 458ms/step - loss: 8.2794e-04 - val_loss: 0.0021\n",
            "Epoch 47/100\n",
            "12/12 [==============================] - 3s 234ms/step - loss: 8.0674e-04 - val_loss: 0.0015\n",
            "Epoch 48/100\n",
            "12/12 [==============================] - 3s 291ms/step - loss: 8.3398e-04 - val_loss: 0.0015\n",
            "Epoch 49/100\n",
            "12/12 [==============================] - 5s 454ms/step - loss: 8.2124e-04 - val_loss: 0.0014\n",
            "Epoch 50/100\n",
            "12/12 [==============================] - 2s 208ms/step - loss: 8.4688e-04 - val_loss: 0.0023\n",
            "Epoch 51/100\n",
            "12/12 [==============================] - 3s 221ms/step - loss: 8.5705e-04 - val_loss: 0.0017\n",
            "Epoch 52/100\n",
            "12/12 [==============================] - 3s 250ms/step - loss: 8.5387e-04 - val_loss: 0.0022\n",
            "Epoch 53/100\n",
            "12/12 [==============================] - 4s 314ms/step - loss: 7.9705e-04 - val_loss: 0.0013\n",
            "Epoch 54/100\n",
            "12/12 [==============================] - 3s 215ms/step - loss: 8.7942e-04 - val_loss: 0.0021\n",
            "Epoch 55/100\n",
            "12/12 [==============================] - 2s 209ms/step - loss: 8.0979e-04 - val_loss: 0.0013\n",
            "Epoch 56/100\n",
            "12/12 [==============================] - 3s 217ms/step - loss: 8.3620e-04 - val_loss: 0.0016\n",
            "Epoch 57/100\n",
            "12/12 [==============================] - 3s 221ms/step - loss: 7.4100e-04 - val_loss: 0.0013\n",
            "Epoch 58/100\n",
            "12/12 [==============================] - 4s 312ms/step - loss: 7.6114e-04 - val_loss: 0.0032\n",
            "Epoch 59/100\n",
            "12/12 [==============================] - 3s 216ms/step - loss: 8.6226e-04 - val_loss: 0.0015\n",
            "Epoch 60/100\n",
            "12/12 [==============================] - 3s 246ms/step - loss: 7.1977e-04 - val_loss: 0.0024\n",
            "Epoch 61/100\n",
            "12/12 [==============================] - 2s 208ms/step - loss: 8.2503e-04 - val_loss: 0.0015\n",
            "Epoch 62/100\n",
            "12/12 [==============================] - 4s 304ms/step - loss: 8.8841e-04 - val_loss: 0.0020\n",
            "Epoch 63/100\n",
            "12/12 [==============================] - 3s 237ms/step - loss: 7.2564e-04 - val_loss: 0.0013\n",
            "Epoch 64/100\n",
            "12/12 [==============================] - 3s 217ms/step - loss: 7.5485e-04 - val_loss: 0.0019\n",
            "Epoch 65/100\n",
            "12/12 [==============================] - 2s 207ms/step - loss: 7.7501e-04 - val_loss: 0.0012\n",
            "Epoch 66/100\n",
            "12/12 [==============================] - 3s 247ms/step - loss: 7.4590e-04 - val_loss: 0.0016\n",
            "Epoch 67/100\n",
            "12/12 [==============================] - 3s 272ms/step - loss: 7.3987e-04 - val_loss: 0.0012\n",
            "Epoch 68/100\n",
            "12/12 [==============================] - 3s 216ms/step - loss: 7.0077e-04 - val_loss: 0.0013\n",
            "Epoch 69/100\n",
            "12/12 [==============================] - 3s 222ms/step - loss: 6.8924e-04 - val_loss: 0.0013\n",
            "Epoch 70/100\n",
            "12/12 [==============================] - 3s 216ms/step - loss: 6.8990e-04 - val_loss: 0.0011\n",
            "Epoch 71/100\n",
            "12/12 [==============================] - 4s 339ms/step - loss: 7.0825e-04 - val_loss: 0.0021\n",
            "Epoch 72/100\n",
            "12/12 [==============================] - 3s 219ms/step - loss: 7.2118e-04 - val_loss: 0.0012\n",
            "Epoch 73/100\n",
            "12/12 [==============================] - 3s 224ms/step - loss: 8.1332e-04 - val_loss: 0.0015\n",
            "Epoch 74/100\n",
            "12/12 [==============================] - 3s 212ms/step - loss: 6.4482e-04 - val_loss: 0.0012\n",
            "Epoch 75/100\n",
            "12/12 [==============================] - 3s 253ms/step - loss: 6.6083e-04 - val_loss: 0.0013\n",
            "Epoch 76/100\n",
            "12/12 [==============================] - 3s 257ms/step - loss: 6.8324e-04 - val_loss: 0.0013\n",
            "Epoch 77/100\n",
            "12/12 [==============================] - 3s 245ms/step - loss: 6.4452e-04 - val_loss: 0.0019\n",
            "Epoch 78/100\n",
            "12/12 [==============================] - 3s 210ms/step - loss: 6.5884e-04 - val_loss: 0.0013\n",
            "Epoch 79/100\n",
            "12/12 [==============================] - 3s 211ms/step - loss: 7.0388e-04 - val_loss: 0.0017\n",
            "Epoch 80/100\n",
            "12/12 [==============================] - 4s 312ms/step - loss: 6.6195e-04 - val_loss: 0.0014\n",
            "Epoch 81/100\n",
            "12/12 [==============================] - 3s 236ms/step - loss: 6.4819e-04 - val_loss: 0.0010\n",
            "Epoch 82/100\n",
            "12/12 [==============================] - 3s 258ms/step - loss: 6.6187e-04 - val_loss: 0.0010\n",
            "Epoch 83/100\n",
            "12/12 [==============================] - 3s 218ms/step - loss: 6.9050e-04 - val_loss: 0.0014\n",
            "Epoch 84/100\n",
            "12/12 [==============================] - 3s 300ms/step - loss: 6.4390e-04 - val_loss: 0.0011\n",
            "Epoch 85/100\n",
            "12/12 [==============================] - 3s 211ms/step - loss: 6.1980e-04 - val_loss: 0.0010\n",
            "Epoch 86/100\n",
            "12/12 [==============================] - 3s 244ms/step - loss: 6.1589e-04 - val_loss: 0.0013\n",
            "Epoch 87/100\n",
            "12/12 [==============================] - 3s 215ms/step - loss: 6.2057e-04 - val_loss: 9.8322e-04\n",
            "Epoch 88/100\n",
            "12/12 [==============================] - 3s 226ms/step - loss: 7.1083e-04 - val_loss: 0.0011\n",
            "Epoch 89/100\n",
            "12/12 [==============================] - 3s 284ms/step - loss: 5.9202e-04 - val_loss: 0.0014\n",
            "Epoch 90/100\n",
            "12/12 [==============================] - 3s 212ms/step - loss: 6.0628e-04 - val_loss: 0.0010\n",
            "Epoch 91/100\n",
            "12/12 [==============================] - 3s 223ms/step - loss: 6.1529e-04 - val_loss: 0.0011\n",
            "Epoch 92/100\n",
            "12/12 [==============================] - 3s 220ms/step - loss: 6.0310e-04 - val_loss: 0.0015\n",
            "Epoch 93/100\n",
            "12/12 [==============================] - 4s 312ms/step - loss: 6.1185e-04 - val_loss: 0.0011\n",
            "Epoch 94/100\n",
            "12/12 [==============================] - 3s 217ms/step - loss: 5.6394e-04 - val_loss: 9.3157e-04\n",
            "Epoch 95/100\n",
            "12/12 [==============================] - 3s 240ms/step - loss: 5.7867e-04 - val_loss: 0.0010\n",
            "Epoch 96/100\n",
            "12/12 [==============================] - 3s 217ms/step - loss: 5.8100e-04 - val_loss: 0.0015\n",
            "Epoch 97/100\n",
            "12/12 [==============================] - 3s 231ms/step - loss: 5.7884e-04 - val_loss: 0.0010\n",
            "Epoch 98/100\n",
            "12/12 [==============================] - 3s 272ms/step - loss: 5.9229e-04 - val_loss: 9.1659e-04\n",
            "Epoch 99/100\n",
            "12/12 [==============================] - 3s 240ms/step - loss: 5.6379e-04 - val_loss: 0.0011\n",
            "Epoch 100/100\n",
            "12/12 [==============================] - 2s 210ms/step - loss: 5.8531e-04 - val_loss: 9.6349e-04\n"
          ]
        },
        {
          "output_type": "execute_result",
          "data": {
            "text/plain": [
              "<keras.callbacks.History at 0x783298390cd0>"
            ]
          },
          "metadata": {},
          "execution_count": 31
        }
      ]
    },
    {
      "cell_type": "code",
      "source": [
        "import tensorflow as tf\n",
        "tf.__version__"
      ],
      "metadata": {
        "colab": {
          "base_uri": "https://localhost:8080/",
          "height": 35
        },
        "id": "GzoWvtm2Ntr1",
        "outputId": "4ce9a6f7-9b35-433b-b9ee-140968490a0b"
      },
      "execution_count": null,
      "outputs": [
        {
          "output_type": "execute_result",
          "data": {
            "text/plain": [
              "'2.12.0'"
            ],
            "application/vnd.google.colaboratory.intrinsic+json": {
              "type": "string"
            }
          },
          "metadata": {},
          "execution_count": 32
        }
      ]
    },
    {
      "cell_type": "code",
      "source": [
        "### Lets Do the prediction and check performance metrics\n",
        "train_predict=model.predict(X_train)\n",
        "test_predict=model.predict(X_test)"
      ],
      "metadata": {
        "colab": {
          "base_uri": "https://localhost:8080/"
        },
        "id": "jMMTMh5aOLnZ",
        "outputId": "e9e3153e-96a4-4575-c560-733339ecd9ab"
      },
      "execution_count": null,
      "outputs": [
        {
          "output_type": "stream",
          "name": "stdout",
          "text": [
            "23/23 [==============================] - 2s 40ms/step\n",
            "11/11 [==============================] - 0s 44ms/step\n"
          ]
        }
      ]
    },
    {
      "cell_type": "code",
      "source": [
        "##Transformback to original form\n",
        "train_predict=scaler.inverse_transform(train_predict)\n",
        "test_predict=scaler.inverse_transform(test_predict)"
      ],
      "metadata": {
        "id": "IUhC6EKNOL5X"
      },
      "execution_count": null,
      "outputs": []
    },
    {
      "cell_type": "code",
      "source": [
        "### Calculate RMSE performance metrics\n",
        "import math\n",
        "from sklearn.metrics import mean_squared_error\n",
        "math.sqrt(mean_squared_error(y_train,train_predict))"
      ],
      "metadata": {
        "colab": {
          "base_uri": "https://localhost:8080/"
        },
        "id": "5LCt35CiOMF1",
        "outputId": "6c6887e1-3fab-4136-a0cb-8e43edf01733"
      },
      "execution_count": null,
      "outputs": [
        {
          "output_type": "execute_result",
          "data": {
            "text/plain": [
              "14.085946246525657"
            ]
          },
          "metadata": {},
          "execution_count": 35
        }
      ]
    },
    {
      "cell_type": "code",
      "source": [
        "### Test Data RMSE\n",
        "math.sqrt(mean_squared_error(ytest,test_predict))"
      ],
      "metadata": {
        "colab": {
          "base_uri": "https://localhost:8080/"
        },
        "id": "5TqcOvkLOTSo",
        "outputId": "31715889-b77a-4851-ce93-1d7c4430785e"
      },
      "execution_count": null,
      "outputs": [
        {
          "output_type": "execute_result",
          "data": {
            "text/plain": [
              "17.868827421997214"
            ]
          },
          "metadata": {},
          "execution_count": 36
        }
      ]
    },
    {
      "cell_type": "code",
      "source": [
        "### Plotting\n",
        "# shift train predictions for plotting\n",
        "look_back=100\n",
        "trainPredictPlot = numpy.empty_like(df1)\n",
        "trainPredictPlot[:, :] = np.nan\n",
        "trainPredictPlot[look_back:len(train_predict)+look_back, :] = train_predict\n",
        "# shift test predictions for plotting\n",
        "testPredictPlot = numpy.empty_like(df1)\n",
        "testPredictPlot[:, :] = numpy.nan\n",
        "testPredictPlot[len(train_predict)+(look_back*2)+1:len(df1)-1, :] = test_predict\n",
        "# plot baseline and predictions\n",
        "plt.plot(scaler.inverse_transform(df1), label='Original data')\n",
        "plt.plot(trainPredictPlot, label='Training data')\n",
        "plt.plot(testPredictPlot, label='Test data')\n",
        "\n",
        "plt.xlabel('Days')\n",
        "plt.ylabel('Closing Stock Price($)')\n",
        "plt.title('Plots with Legend')\n",
        "\n",
        "plt.legend()\n",
        "\n",
        "plt.show()\n"
      ],
      "metadata": {
        "colab": {
          "base_uri": "https://localhost:8080/",
          "height": 472
        },
        "id": "0MUV7x-5OTsz",
        "outputId": "72b08628-2306-4ca5-b4b0-4df79ac9509a"
      },
      "execution_count": null,
      "outputs": [
        {
          "output_type": "display_data",
          "data": {
            "text/plain": [
              "<Figure size 640x480 with 1 Axes>"
            ],
            "image/png": "[encoded data removed]"
          },
          "metadata": {}
        }
      ]
    },
    {
      "cell_type": "code",
      "source": [
        "#save plot as an image\n",
        "#plt.savefig()"
      ],
      "metadata": {
        "id": "OpG904sMOT2_"
      },
      "execution_count": null,
      "outputs": []
    },
    {
      "cell_type": "code",
      "source": [
        "check1 = pd.read_csv('/content/INFY.csv')\n",
        "check1.tail()"
      ],
      "metadata": {
        "colab": {
          "base_uri": "https://localhost:8080/",
          "height": 356
        },
        "id": "9_APXqLKOT9X",
        "outputId": "b3ccf2e7-863b-4079-d515-b8b41e48ef45"
      },
      "execution_count": null,
      "outputs": [
        {
          "output_type": "execute_result",
          "data": {
            "text/plain": [
              "     symbol                       date  close    high     low   open  \\\n",
              "1251   INFY  2023-07-27 00:00:00+00:00  16.63  16.780  16.615  16.64   \n",
              "1252   INFY  2023-07-28 00:00:00+00:00  16.46  16.480  16.190  16.36   \n",
              "1253   INFY  2023-07-31 00:00:00+00:00  16.66  16.745  16.600  16.62   \n",
              "1254   INFY  2023-08-01 00:00:00+00:00  16.80  16.840  16.650  16.72   \n",
              "1255   INFY  2023-08-02 00:00:00+00:00  16.52  16.600  16.435  16.54   \n",
              "\n",
              "        volume  adjClose  adjHigh  adjLow  adjOpen  adjVolume  divCash  \\\n",
              "1251  11839862     16.63   16.780  16.615    16.64   11839862      0.0   \n",
              "1252   9072377     16.46   16.480  16.190    16.36    9072377      0.0   \n",
              "1253   6604532     16.66   16.745  16.600    16.62    6604532      0.0   \n",
              "1254   7462327     16.80   16.840  16.650    16.72    7462327      0.0   \n",
              "1255  11896528     16.52   16.600  16.435    16.54   11896528      0.0   \n",
              "\n",
              "      splitFactor  \n",
              "1251          1.0  \n",
              "1252          1.0  \n",
              "1253          1.0  \n",
              "1254          1.0  \n",
              "1255          1.0  "
            ],
            "text/html": [
              "\n",
              "\n",
              "  <div id=\"df-7d00feca-2712-49d1-bd81-acdd92c04139\">\n",
              "    <div class=\"colab-df-container\">\n",
              "      <div>\n",
              "<style scoped>\n",
              "    .dataframe tbody tr th:only-of-type {\n",
              "        vertical-align: middle;\n",
              "    }\n",
              "\n",
              "    .dataframe tbody tr th {\n",
              "        vertical-align: top;\n",
              "    }\n",
              "\n",
              "    .dataframe thead th {\n",
              "        text-align: right;\n",
              "    }\n",
              "</style>\n",
              "<table border=\"1\" class=\"dataframe\">\n",
              "  <thead>\n",
              "    <tr style=\"text-align: right;\">\n",
              "      <th></th>\n",
              "      <th>symbol</th>\n",
              "      <th>date</th>\n",
              "      <th>close</th>\n",
              "      <th>high</th>\n",
              "      <th>low</th>\n",
              "      <th>open</th>\n",
              "      <th>volume</th>\n",
              "      <th>adjClose</th>\n",
              "      <th>adjHigh</th>\n",
              "      <th>adjLow</th>\n",
              "      <th>adjOpen</th>\n",
              "      <th>adjVolume</th>\n",
              "      <th>divCash</th>\n",
              "      <th>splitFactor</th>\n",
              "    </tr>\n",
              "  </thead>\n",
              "  <tbody>\n",
              "    <tr>\n",
              "      <th>1251</th>\n",
              "      <td>INFY</td>\n",
              "      <td>2023-07-27 00:00:00+00:00</td>\n",
              "      <td>16.63</td>\n",
              "      <td>16.780</td>\n",
              "      <td>16.615</td>\n",
              "      <td>16.64</td>\n",
              "      <td>11839862</td>\n",
              "      <td>16.63</td>\n",
              "      <td>16.780</td>\n",
              "      <td>16.615</td>\n",
              "      <td>16.64</td>\n",
              "      <td>11839862</td>\n",
              "      <td>0.0</td>\n",
              "      <td>1.0</td>\n",
              "    </tr>\n",
              "    <tr>\n",
              "      <th>1252</th>\n",
              "      <td>INFY</td>\n",
              "      <td>2023-07-28 00:00:00+00:00</td>\n",
              "      <td>16.46</td>\n",
              "      <td>16.480</td>\n",
              "      <td>16.190</td>\n",
              "      <td>16.36</td>\n",
              "      <td>9072377</td>\n",
              "      <td>16.46</td>\n",
              "      <td>16.480</td>\n",
              "      <td>16.190</td>\n",
              "      <td>16.36</td>\n",
              "      <td>9072377</td>\n",
              "      <td>0.0</td>\n",
              "      <td>1.0</td>\n",
              "    </tr>\n",
              "    <tr>\n",
              "      <th>1253</th>\n",
              "      <td>INFY</td>\n",
              "      <td>2023-07-31 00:00:00+00:00</td>\n",
              "      <td>16.66</td>\n",
              "      <td>16.745</td>\n",
              "      <td>16.600</td>\n",
              "      <td>16.62</td>\n",
              "      <td>6604532</td>\n",
              "      <td>16.66</td>\n",
              "      <td>16.745</td>\n",
              "      <td>16.600</td>\n",
              "      <td>16.62</td>\n",
              "      <td>6604532</td>\n",
              "      <td>0.0</td>\n",
              "      <td>1.0</td>\n",
              "    </tr>\n",
              "    <tr>\n",
              "      <th>1254</th>\n",
              "      <td>INFY</td>\n",
              "      <td>2023-08-01 00:00:00+00:00</td>\n",
              "      <td>16.80</td>\n",
              "      <td>16.840</td>\n",
              "      <td>16.650</td>\n",
              "      <td>16.72</td>\n",
              "      <td>7462327</td>\n",
              "      <td>16.80</td>\n",
              "      <td>16.840</td>\n",
              "      <td>16.650</td>\n",
              "      <td>16.72</td>\n",
              "      <td>7462327</td>\n",
              "      <td>0.0</td>\n",
              "      <td>1.0</td>\n",
              "    </tr>\n",
              "    <tr>\n",
              "      <th>1255</th>\n",
              "      <td>INFY</td>\n",
              "      <td>2023-08-02 00:00:00+00:00</td>\n",
              "      <td>16.52</td>\n",
              "      <td>16.600</td>\n",
              "      <td>16.435</td>\n",
              "      <td>16.54</td>\n",
              "      <td>11896528</td>\n",
              "      <td>16.52</td>\n",
              "      <td>16.600</td>\n",
              "      <td>16.435</td>\n",
              "      <td>16.54</td>\n",
              "      <td>11896528</td>\n",
              "      <td>0.0</td>\n",
              "      <td>1.0</td>\n",
              "    </tr>\n",
              "  </tbody>\n",
              "</table>\n",
              "</div>\n",
              "      <button class=\"colab-df-convert\" onclick=\"convertToInteractive('df-7d00feca-2712-49d1-bd81-acdd92c04139')\"\n",
              "              title=\"Convert this dataframe to an interactive table.\"\n",
              "              style=\"display:none;\">\n",
              "\n",
              "  <svg xmlns=\"http://www.w3.org/2000/svg\" height=\"24px\"viewBox=\"0 0 24 24\"\n",
              "       width=\"24px\">\n",
              "    <path d=\"M0 0h24v24H0V0z\" fill=\"none\"/>\n",
              "    <path d=\"M18.56 5.44l.94 2.06.94-2.06 2.06-.94-2.06-.94-.94-2.06-.94 2.06-2.06.94zm-11 1L8.5 8.5l.94-2.06 2.06-.94-2.06-.94L8.5 2.5l-.94 2.06-2.06.94zm10 10l.94 2.06.94-2.06 2.06-.94-2.06-.94-.94-2.06-.94 2.06-2.06.94z\"/><path d=\"M17.41 7.96l-1.37-1.37c-.4-.4-.92-.59-1.43-.59-.52 0-1.04.2-1.43.59L10.3 9.45l-7.72 7.72c-.78.78-.78 2.05 0 2.83L4 21.41c.39.39.9.59 1.41.59.51 0 1.02-.2 1.41-.59l7.78-7.78 2.81-2.81c.8-.78.8-2.07 0-2.86zM5.41 20L4 18.59l7.72-7.72 1.47 1.35L5.41 20z\"/>\n",
              "  </svg>\n",
              "      </button>\n",
              "\n",
              "\n",
              "\n",
              "    <div id=\"df-556d34bc-d0b3-4a1f-a365-5218a7a39487\">\n",
              "      <button class=\"colab-df-quickchart\" onclick=\"quickchart('df-556d34bc-d0b3-4a1f-a365-5218a7a39487')\"\n",
              "              title=\"Suggest charts.\"\n",
              "              style=\"display:none;\">\n",
              "\n",
              "<svg xmlns=\"http://www.w3.org/2000/svg\" height=\"24px\"viewBox=\"0 0 24 24\"\n",
              "     width=\"24px\">\n",
              "    <g>\n",
              "        <path d=\"M19 3H5c-1.1 0-2 .9-2 2v14c0 1.1.9 2 2 2h14c1.1 0 2-.9 2-2V5c0-1.1-.9-2-2-2zM9 17H7v-7h2v7zm4 0h-2V7h2v10zm4 0h-2v-4h2v4z\"/>\n",
              "    </g>\n",
              "</svg>\n",
              "      </button>\n",
              "    </div>\n",
              "\n",
              "<style>\n",
              "  .colab-df-quickchart {\n",
              "    background-color: #E8F0FE;\n",
              "    border: none;\n",
              "    border-radius: 50%;\n",
              "    cursor: pointer;\n",
              "    display: none;\n",
              "    fill: #1967D2;\n",
              "    height: 32px;\n",
              "    padding: 0 0 0 0;\n",
              "    width: 32px;\n",
              "  }\n",
              "\n",
              "  .colab-df-quickchart:hover {\n",
              "    background-color: #E2EBFA;\n",
              "    box-shadow: 0px 1px 2px rgba(60, 64, 67, 0.3), 0px 1px 3px 1px rgba(60, 64, 67, 0.15);\n",
              "    fill: #174EA6;\n",
              "  }\n",
              "\n",
              "  [theme=dark] .colab-df-quickchart {\n",
              "    background-color: #3B4455;\n",
              "    fill: #D2E3FC;\n",
              "  }\n",
              "\n",
              "  [theme=dark] .colab-df-quickchart:hover {\n",
              "    background-color: #434B5C;\n",
              "    box-shadow: 0px 1px 3px 1px rgba(0, 0, 0, 0.15);\n",
              "    filter: drop-shadow(0px 1px 2px rgba(0, 0, 0, 0.3));\n",
              "    fill: #FFFFFF;\n",
              "  }\n",
              "</style>\n",
              "\n",
              "    <script>\n",
              "      async function quickchart(key) {\n",
              "        const containerElement = document.querySelector('#' + key);\n",
              "        const charts = await google.colab.kernel.invokeFunction(\n",
              "            'suggestCharts', [key], {});\n",
              "      }\n",
              "    </script>\n",
              "\n",
              "      <script>\n",
              "\n",
              "function displayQuickchartButton(domScope) {\n",
              "  let quickchartButtonEl =\n",
              "    domScope.querySelector('#df-556d34bc-d0b3-4a1f-a365-5218a7a39487 button.colab-df-quickchart');\n",
              "  quickchartButtonEl.style.display =\n",
              "    google.colab.kernel.accessAllowed ? 'block' : 'none';\n",
              "}\n",
              "\n",
              "        displayQuickchartButton(document);\n",
              "      </script>\n",
              "      <style>\n",
              "    .colab-df-container {\n",
              "      display:flex;\n",
              "      flex-wrap:wrap;\n",
              "      gap: 12px;\n",
              "    }\n",
              "\n",
              "    .colab-df-convert {\n",
              "      background-color: #E8F0FE;\n",
              "      border: none;\n",
              "      border-radius: 50%;\n",
              "      cursor: pointer;\n",
              "      display: none;\n",
              "      fill: #1967D2;\n",
              "      height: 32px;\n",
              "      padding: 0 0 0 0;\n",
              "      width: 32px;\n",
              "    }\n",
              "\n",
              "    .colab-df-convert:hover {\n",
              "      background-color: #E2EBFA;\n",
              "      box-shadow: 0px 1px 2px rgba(60, 64, 67, 0.3), 0px 1px 3px 1px rgba(60, 64, 67, 0.15);\n",
              "      fill: #174EA6;\n",
              "    }\n",
              "\n",
              "    [theme=dark] .colab-df-convert {\n",
              "      background-color: #3B4455;\n",
              "      fill: #D2E3FC;\n",
              "    }\n",
              "\n",
              "    [theme=dark] .colab-df-convert:hover {\n",
              "      background-color: #434B5C;\n",
              "      box-shadow: 0px 1px 3px 1px rgba(0, 0, 0, 0.15);\n",
              "      filter: drop-shadow(0px 1px 2px rgba(0, 0, 0, 0.3));\n",
              "      fill: #FFFFFF;\n",
              "    }\n",
              "  </style>\n",
              "\n",
              "      <script>\n",
              "        const buttonEl =\n",
              "          document.querySelector('#df-7d00feca-2712-49d1-bd81-acdd92c04139 button.colab-df-convert');\n",
              "        buttonEl.style.display =\n",
              "          google.colab.kernel.accessAllowed ? 'block' : 'none';\n",
              "\n",
              "        async function convertToInteractive(key) {\n",
              "          const element = document.querySelector('#df-7d00feca-2712-49d1-bd81-acdd92c04139');\n",
              "          const dataTable =\n",
              "            await google.colab.kernel.invokeFunction('convertToInteractive',\n",
              "                                                     [key], {});\n",
              "          if (!dataTable) return;\n",
              "\n",
              "          const docLinkHtml = 'Like what you see? Visit the ' +\n",
              "            '<a target=\"_blank\" href=https://colab.research.google.com/notebooks/data_table.ipynb>data table notebook</a>'\n",
              "            + ' to learn more about interactive tables.';\n",
              "          element.innerHTML = '';\n",
              "          dataTable['output_type'] = 'display_data';\n",
              "          await google.colab.output.renderOutput(dataTable, element);\n",
              "          const docLink = document.createElement('div');\n",
              "          docLink.innerHTML = docLinkHtml;\n",
              "          element.appendChild(docLink);\n",
              "        }\n",
              "      </script>\n",
              "    </div>\n",
              "  </div>\n"
            ]
          },
          "metadata": {},
          "execution_count": 47
        }
      ]
    },
    {
      "cell_type": "code",
      "source": [
        "len(test_data)\n"
      ],
      "metadata": {
        "colab": {
          "base_uri": "https://localhost:8080/"
        },
        "id": "1lhgiw95Sh_y",
        "outputId": "5f632a67-4a20-4409-82cd-6a96b12400cc"
      },
      "execution_count": null,
      "outputs": [
        {
          "output_type": "execute_result",
          "data": {
            "text/plain": [
              "440"
            ]
          },
          "metadata": {},
          "execution_count": 50
        }
      ]
    },
    {
      "cell_type": "code",
      "source": [
        "x_input=test_data[340:].reshape(1,-1)\n",
        "x_input.shape"
      ],
      "metadata": {
        "colab": {
          "base_uri": "https://localhost:8080/"
        },
        "id": "srwVW-FYTZ0V",
        "outputId": "ff6af1da-a0f2-4edd-8aff-8134a35b4911"
      },
      "execution_count": null,
      "outputs": [
        {
          "output_type": "execute_result",
          "data": {
            "text/plain": [
              "(1, 100)"
            ]
          },
          "metadata": {},
          "execution_count": 57
        }
      ]
    },
    {
      "cell_type": "code",
      "source": [
        "temp_input=list(x_input)\n",
        "temp_input=temp_input[0].tolist()"
      ],
      "metadata": {
        "id": "EVJ_z51ZTdhN"
      },
      "execution_count": null,
      "outputs": []
    },
    {
      "cell_type": "code",
      "source": [
        "#temp_input"
      ],
      "metadata": {
        "id": "4xw7WRyJTd68"
      },
      "execution_count": null,
      "outputs": []
    },
    {
      "cell_type": "code",
      "source": [
        "# demonstrate prediction for next 10 days\n",
        "from numpy import array\n",
        "\n",
        "lst_output=[]\n",
        "n_steps=100\n",
        "i=0\n",
        "while(i<30):\n",
        "\n",
        "    if(len(temp_input)>100):\n",
        "        #print(temp_input)\n",
        "        x_input=np.array(temp_input[1:])\n",
        "        print(\"{} day input {}\".format(i,x_input))\n",
        "        x_input=x_input.reshape(1,-1)\n",
        "        x_input = x_input.reshape((1, n_steps, 1))\n",
        "        #print(x_input)\n",
        "        yhat = model.predict(x_input, verbose=0)\n",
        "        print(\"{} day output {}\".format(i,yhat))\n",
        "        temp_input.extend(yhat[0].tolist())\n",
        "        temp_input=temp_input[1:]\n",
        "        #print(temp_input)\n",
        "        lst_output.extend(yhat.tolist())\n",
        "        i=i+1\n",
        "    else:\n",
        "        x_input = x_input.reshape((1, n_steps,1))\n",
        "        yhat = model.predict(x_input, verbose=0)\n",
        "        print(yhat[0])\n",
        "        temp_input.extend(yhat[0].tolist())\n",
        "        print(len(temp_input))\n",
        "        lst_output.extend(yhat.tolist())\n",
        "        i=i+1"
      ],
      "metadata": {
        "colab": {
          "base_uri": "https://localhost:8080/"
        },
        "id": "79F_iBKgTgRE",
        "outputId": "d7e2676a-2935-4241-b470-f7d7b0834b6f"
      },
      "execution_count": null,
      "outputs": [
        {
          "output_type": "stream",
          "name": "stdout",
          "text": [
            "[0.49420628]\n",
            "101\n",
            "1 day input [0.53634476 0.53946002 0.51869159 0.53219107 0.51661475 0.51869159\n",
            " 0.51661475 0.50155763 0.5192108  0.51194185 0.52336449 0.51038422\n",
            " 0.52024922 0.52959502 0.54517134 0.54413292 0.54153686 0.53946002\n",
            " 0.53530633 0.54257529 0.54569055 0.52596054 0.43925234 0.4278297\n",
            " 0.42834891 0.41640706 0.40913811 0.41069574 0.41173416 0.40913811\n",
            " 0.40758048 0.41069574 0.43457944 0.44652129 0.44392523 0.44652129\n",
            " 0.43821391 0.43406023 0.43146417 0.43198339 0.4325026  0.43406023\n",
            " 0.42004154 0.42263759 0.43613707 0.42419522 0.42834891 0.42627207\n",
            " 0.43146417 0.45223261 0.44600208 0.44755971 0.45275182 0.46365524\n",
            " 0.46521288 0.46832814 0.4615784  0.46002077 0.43925234 0.4517134\n",
            " 0.4517134  0.44132918 0.44184839 0.46053998 0.46261682 0.44755971\n",
            " 0.45067497 0.4615784  0.4517134  0.43873313 0.44288681 0.42886812\n",
            " 0.44444444 0.45067497 0.45742471 0.46521288 0.47403946 0.47767394\n",
            " 0.48390447 0.47403946 0.47300104 0.4709242  0.48286604 0.47403946\n",
            " 0.51142264 0.52440291 0.53738318 0.56801661 0.55919003 0.48182762\n",
            " 0.48598131 0.48182762 0.49013499 0.50259605 0.50311526 0.49428868\n",
            " 0.5046729  0.51194185 0.49740395 0.49420628]\n",
            "1 day output [[0.49517825]]\n",
            "2 day input [0.53946002 0.51869159 0.53219107 0.51661475 0.51869159 0.51661475\n",
            " 0.50155763 0.5192108  0.51194185 0.52336449 0.51038422 0.52024922\n",
            " 0.52959502 0.54517134 0.54413292 0.54153686 0.53946002 0.53530633\n",
            " 0.54257529 0.54569055 0.52596054 0.43925234 0.4278297  0.42834891\n",
            " 0.41640706 0.40913811 0.41069574 0.41173416 0.40913811 0.40758048\n",
            " 0.41069574 0.43457944 0.44652129 0.44392523 0.44652129 0.43821391\n",
            " 0.43406023 0.43146417 0.43198339 0.4325026  0.43406023 0.42004154\n",
            " 0.42263759 0.43613707 0.42419522 0.42834891 0.42627207 0.43146417\n",
            " 0.45223261 0.44600208 0.44755971 0.45275182 0.46365524 0.46521288\n",
            " 0.46832814 0.4615784  0.46002077 0.43925234 0.4517134  0.4517134\n",
            " 0.44132918 0.44184839 0.46053998 0.46261682 0.44755971 0.45067497\n",
            " 0.4615784  0.4517134  0.43873313 0.44288681 0.42886812 0.44444444\n",
            " 0.45067497 0.45742471 0.46521288 0.47403946 0.47767394 0.48390447\n",
            " 0.47403946 0.47300104 0.4709242  0.48286604 0.47403946 0.51142264\n",
            " 0.52440291 0.53738318 0.56801661 0.55919003 0.48182762 0.48598131\n",
            " 0.48182762 0.49013499 0.50259605 0.50311526 0.49428868 0.5046729\n",
            " 0.51194185 0.49740395 0.49420628 0.49517825]\n",
            "2 day output [[0.4959429]]\n",
            "3 day input [0.51869159 0.53219107 0.51661475 0.51869159 0.51661475 0.50155763\n",
            " 0.5192108  0.51194185 0.52336449 0.51038422 0.52024922 0.52959502\n",
            " 0.54517134 0.54413292 0.54153686 0.53946002 0.53530633 0.54257529\n",
            " 0.54569055 0.52596054 0.43925234 0.4278297  0.42834891 0.41640706\n",
            " 0.40913811 0.41069574 0.41173416 0.40913811 0.40758048 0.41069574\n",
            " 0.43457944 0.44652129 0.44392523 0.44652129 0.43821391 0.43406023\n",
            " 0.43146417 0.43198339 0.4325026  0.43406023 0.42004154 0.42263759\n",
            " 0.43613707 0.42419522 0.42834891 0.42627207 0.43146417 0.45223261\n",
            " 0.44600208 0.44755971 0.45275182 0.46365524 0.46521288 0.46832814\n",
            " 0.4615784  0.46002077 0.43925234 0.4517134  0.4517134  0.44132918\n",
            " 0.44184839 0.46053998 0.46261682 0.44755971 0.45067497 0.4615784\n",
            " 0.4517134  0.43873313 0.44288681 0.42886812 0.44444444 0.45067497\n",
            " 0.45742471 0.46521288 0.47403946 0.47767394 0.48390447 0.47403946\n",
            " 0.47300104 0.4709242  0.48286604 0.47403946 0.51142264 0.52440291\n",
            " 0.53738318 0.56801661 0.55919003 0.48182762 0.48598131 0.48182762\n",
            " 0.49013499 0.50259605 0.50311526 0.49428868 0.5046729  0.51194185\n",
            " 0.49740395 0.49420628 0.49517825 0.49594289]\n",
            "3 day output [[0.49650946]]\n",
            "4 day input [0.53219107 0.51661475 0.51869159 0.51661475 0.50155763 0.5192108\n",
            " 0.51194185 0.52336449 0.51038422 0.52024922 0.52959502 0.54517134\n",
            " 0.54413292 0.54153686 0.53946002 0.53530633 0.54257529 0.54569055\n",
            " 0.52596054 0.43925234 0.4278297  0.42834891 0.41640706 0.40913811\n",
            " 0.41069574 0.41173416 0.40913811 0.40758048 0.41069574 0.43457944\n",
            " 0.44652129 0.44392523 0.44652129 0.43821391 0.43406023 0.43146417\n",
            " 0.43198339 0.4325026  0.43406023 0.42004154 0.42263759 0.43613707\n",
            " 0.42419522 0.42834891 0.42627207 0.43146417 0.45223261 0.44600208\n",
            " 0.44755971 0.45275182 0.46365524 0.46521288 0.46832814 0.4615784\n",
            " 0.46002077 0.43925234 0.4517134  0.4517134  0.44132918 0.44184839\n",
            " 0.46053998 0.46261682 0.44755971 0.45067497 0.4615784  0.4517134\n",
            " 0.43873313 0.44288681 0.42886812 0.44444444 0.45067497 0.45742471\n",
            " 0.46521288 0.47403946 0.47767394 0.48390447 0.47403946 0.47300104\n",
            " 0.4709242  0.48286604 0.47403946 0.51142264 0.52440291 0.53738318\n",
            " 0.56801661 0.55919003 0.48182762 0.48598131 0.48182762 0.49013499\n",
            " 0.50259605 0.50311526 0.49428868 0.5046729  0.51194185 0.49740395\n",
            " 0.49420628 0.49517825 0.49594289 0.49650946]\n",
            "4 day output [[0.49697888]]\n",
            "5 day input [0.51661475 0.51869159 0.51661475 0.50155763 0.5192108  0.51194185\n",
            " 0.52336449 0.51038422 0.52024922 0.52959502 0.54517134 0.54413292\n",
            " 0.54153686 0.53946002 0.53530633 0.54257529 0.54569055 0.52596054\n",
            " 0.43925234 0.4278297  0.42834891 0.41640706 0.40913811 0.41069574\n",
            " 0.41173416 0.40913811 0.40758048 0.41069574 0.43457944 0.44652129\n",
            " 0.44392523 0.44652129 0.43821391 0.43406023 0.43146417 0.43198339\n",
            " 0.4325026  0.43406023 0.42004154 0.42263759 0.43613707 0.42419522\n",
            " 0.42834891 0.42627207 0.43146417 0.45223261 0.44600208 0.44755971\n",
            " 0.45275182 0.46365524 0.46521288 0.46832814 0.4615784  0.46002077\n",
            " 0.43925234 0.4517134  0.4517134  0.44132918 0.44184839 0.46053998\n",
            " 0.46261682 0.44755971 0.45067497 0.4615784  0.4517134  0.43873313\n",
            " 0.44288681 0.42886812 0.44444444 0.45067497 0.45742471 0.46521288\n",
            " 0.47403946 0.47767394 0.48390447 0.47403946 0.47300104 0.4709242\n",
            " 0.48286604 0.47403946 0.51142264 0.52440291 0.53738318 0.56801661\n",
            " 0.55919003 0.48182762 0.48598131 0.48182762 0.49013499 0.50259605\n",
            " 0.50311526 0.49428868 0.5046729  0.51194185 0.49740395 0.49420628\n",
            " 0.49517825 0.49594289 0.49650946 0.49697888]\n",
            "5 day output [[0.4974507]]\n",
            "6 day input [0.51869159 0.51661475 0.50155763 0.5192108  0.51194185 0.52336449\n",
            " 0.51038422 0.52024922 0.52959502 0.54517134 0.54413292 0.54153686\n",
            " 0.53946002 0.53530633 0.54257529 0.54569055 0.52596054 0.43925234\n",
            " 0.4278297  0.42834891 0.41640706 0.40913811 0.41069574 0.41173416\n",
            " 0.40913811 0.40758048 0.41069574 0.43457944 0.44652129 0.44392523\n",
            " 0.44652129 0.43821391 0.43406023 0.43146417 0.43198339 0.4325026\n",
            " 0.43406023 0.42004154 0.42263759 0.43613707 0.42419522 0.42834891\n",
            " 0.42627207 0.43146417 0.45223261 0.44600208 0.44755971 0.45275182\n",
            " 0.46365524 0.46521288 0.46832814 0.4615784  0.46002077 0.43925234\n",
            " 0.4517134  0.4517134  0.44132918 0.44184839 0.46053998 0.46261682\n",
            " 0.44755971 0.45067497 0.4615784  0.4517134  0.43873313 0.44288681\n",
            " 0.42886812 0.44444444 0.45067497 0.45742471 0.46521288 0.47403946\n",
            " 0.47767394 0.48390447 0.47403946 0.47300104 0.4709242  0.48286604\n",
            " 0.47403946 0.51142264 0.52440291 0.53738318 0.56801661 0.55919003\n",
            " 0.48182762 0.48598131 0.48182762 0.49013499 0.50259605 0.50311526\n",
            " 0.49428868 0.5046729  0.51194185 0.49740395 0.49420628 0.49517825\n",
            " 0.49594289 0.49650946 0.49697888 0.49745071]\n",
            "6 day output [[0.497992]]\n",
            "7 day input [0.51661475 0.50155763 0.5192108  0.51194185 0.52336449 0.51038422\n",
            " 0.52024922 0.52959502 0.54517134 0.54413292 0.54153686 0.53946002\n",
            " 0.53530633 0.54257529 0.54569055 0.52596054 0.43925234 0.4278297\n",
            " 0.42834891 0.41640706 0.40913811 0.41069574 0.41173416 0.40913811\n",
            " 0.40758048 0.41069574 0.43457944 0.44652129 0.44392523 0.44652129\n",
            " 0.43821391 0.43406023 0.43146417 0.43198339 0.4325026  0.43406023\n",
            " 0.42004154 0.42263759 0.43613707 0.42419522 0.42834891 0.42627207\n",
            " 0.43146417 0.45223261 0.44600208 0.44755971 0.45275182 0.46365524\n",
            " 0.46521288 0.46832814 0.4615784  0.46002077 0.43925234 0.4517134\n",
            " 0.4517134  0.44132918 0.44184839 0.46053998 0.46261682 0.44755971\n",
            " 0.45067497 0.4615784  0.4517134  0.43873313 0.44288681 0.42886812\n",
            " 0.44444444 0.45067497 0.45742471 0.46521288 0.47403946 0.47767394\n",
            " 0.48390447 0.47403946 0.47300104 0.4709242  0.48286604 0.47403946\n",
            " 0.51142264 0.52440291 0.53738318 0.56801661 0.55919003 0.48182762\n",
            " 0.48598131 0.48182762 0.49013499 0.50259605 0.50311526 0.49428868\n",
            " 0.5046729  0.51194185 0.49740395 0.49420628 0.49517825 0.49594289\n",
            " 0.49650946 0.49697888 0.49745071 0.49799201]\n",
            "7 day output [[0.498636]]\n",
            "8 day input [0.50155763 0.5192108  0.51194185 0.52336449 0.51038422 0.52024922\n",
            " 0.52959502 0.54517134 0.54413292 0.54153686 0.53946002 0.53530633\n",
            " 0.54257529 0.54569055 0.52596054 0.43925234 0.4278297  0.42834891\n",
            " 0.41640706 0.40913811 0.41069574 0.41173416 0.40913811 0.40758048\n",
            " 0.41069574 0.43457944 0.44652129 0.44392523 0.44652129 0.43821391\n",
            " 0.43406023 0.43146417 0.43198339 0.4325026  0.43406023 0.42004154\n",
            " 0.42263759 0.43613707 0.42419522 0.42834891 0.42627207 0.43146417\n",
            " 0.45223261 0.44600208 0.44755971 0.45275182 0.46365524 0.46521288\n",
            " 0.46832814 0.4615784  0.46002077 0.43925234 0.4517134  0.4517134\n",
            " 0.44132918 0.44184839 0.46053998 0.46261682 0.44755971 0.45067497\n",
            " 0.4615784  0.4517134  0.43873313 0.44288681 0.42886812 0.44444444\n",
            " 0.45067497 0.45742471 0.46521288 0.47403946 0.47767394 0.48390447\n",
            " 0.47403946 0.47300104 0.4709242  0.48286604 0.47403946 0.51142264\n",
            " 0.52440291 0.53738318 0.56801661 0.55919003 0.48182762 0.48598131\n",
            " 0.48182762 0.49013499 0.50259605 0.50311526 0.49428868 0.5046729\n",
            " 0.51194185 0.49740395 0.49420628 0.49517825 0.49594289 0.49650946\n",
            " 0.49697888 0.49745071 0.49799201 0.49863601]\n",
            "8 day output [[0.49938956]]\n",
            "9 day input [0.5192108  0.51194185 0.52336449 0.51038422 0.52024922 0.52959502\n",
            " 0.54517134 0.54413292 0.54153686 0.53946002 0.53530633 0.54257529\n",
            " 0.54569055 0.52596054 0.43925234 0.4278297  0.42834891 0.41640706\n",
            " 0.40913811 0.41069574 0.41173416 0.40913811 0.40758048 0.41069574\n",
            " 0.43457944 0.44652129 0.44392523 0.44652129 0.43821391 0.43406023\n",
            " 0.43146417 0.43198339 0.4325026  0.43406023 0.42004154 0.42263759\n",
            " 0.43613707 0.42419522 0.42834891 0.42627207 0.43146417 0.45223261\n",
            " 0.44600208 0.44755971 0.45275182 0.46365524 0.46521288 0.46832814\n",
            " 0.4615784  0.46002077 0.43925234 0.4517134  0.4517134  0.44132918\n",
            " 0.44184839 0.46053998 0.46261682 0.44755971 0.45067497 0.4615784\n",
            " 0.4517134  0.43873313 0.44288681 0.42886812 0.44444444 0.45067497\n",
            " 0.45742471 0.46521288 0.47403946 0.47767394 0.48390447 0.47403946\n",
            " 0.47300104 0.4709242  0.48286604 0.47403946 0.51142264 0.52440291\n",
            " 0.53738318 0.56801661 0.55919003 0.48182762 0.48598131 0.48182762\n",
            " 0.49013499 0.50259605 0.50311526 0.49428868 0.5046729  0.51194185\n",
            " 0.49740395 0.49420628 0.49517825 0.49594289 0.49650946 0.49697888\n",
            " 0.49745071 0.49799201 0.49863601 0.49938956]\n",
            "9 day output [[0.5002454]]\n",
            "10 day input [0.51194185 0.52336449 0.51038422 0.52024922 0.52959502 0.54517134\n",
            " 0.54413292 0.54153686 0.53946002 0.53530633 0.54257529 0.54569055\n",
            " 0.52596054 0.43925234 0.4278297  0.42834891 0.41640706 0.40913811\n",
            " 0.41069574 0.41173416 0.40913811 0.40758048 0.41069574 0.43457944\n",
            " 0.44652129 0.44392523 0.44652129 0.43821391 0.43406023 0.43146417\n",
            " 0.43198339 0.4325026  0.43406023 0.42004154 0.42263759 0.43613707\n",
            " 0.42419522 0.42834891 0.42627207 0.43146417 0.45223261 0.44600208\n",
            " 0.44755971 0.45275182 0.46365524 0.46521288 0.46832814 0.4615784\n",
            " 0.46002077 0.43925234 0.4517134  0.4517134  0.44132918 0.44184839\n",
            " 0.46053998 0.46261682 0.44755971 0.45067497 0.4615784  0.4517134\n",
            " 0.43873313 0.44288681 0.42886812 0.44444444 0.45067497 0.45742471\n",
            " 0.46521288 0.47403946 0.47767394 0.48390447 0.47403946 0.47300104\n",
            " 0.4709242  0.48286604 0.47403946 0.51142264 0.52440291 0.53738318\n",
            " 0.56801661 0.55919003 0.48182762 0.48598131 0.48182762 0.49013499\n",
            " 0.50259605 0.50311526 0.49428868 0.5046729  0.51194185 0.49740395\n",
            " 0.49420628 0.49517825 0.49594289 0.49650946 0.49697888 0.49745071\n",
            " 0.49799201 0.49863601 0.49938956 0.50024539]\n",
            "10 day output [[0.501189]]\n",
            "11 day input [0.52336449 0.51038422 0.52024922 0.52959502 0.54517134 0.54413292\n",
            " 0.54153686 0.53946002 0.53530633 0.54257529 0.54569055 0.52596054\n",
            " 0.43925234 0.4278297  0.42834891 0.41640706 0.40913811 0.41069574\n",
            " 0.41173416 0.40913811 0.40758048 0.41069574 0.43457944 0.44652129\n",
            " 0.44392523 0.44652129 0.43821391 0.43406023 0.43146417 0.43198339\n",
            " 0.4325026  0.43406023 0.42004154 0.42263759 0.43613707 0.42419522\n",
            " 0.42834891 0.42627207 0.43146417 0.45223261 0.44600208 0.44755971\n",
            " 0.45275182 0.46365524 0.46521288 0.46832814 0.4615784  0.46002077\n",
            " 0.43925234 0.4517134  0.4517134  0.44132918 0.44184839 0.46053998\n",
            " 0.46261682 0.44755971 0.45067497 0.4615784  0.4517134  0.43873313\n",
            " 0.44288681 0.42886812 0.44444444 0.45067497 0.45742471 0.46521288\n",
            " 0.47403946 0.47767394 0.48390447 0.47403946 0.47300104 0.4709242\n",
            " 0.48286604 0.47403946 0.51142264 0.52440291 0.53738318 0.56801661\n",
            " 0.55919003 0.48182762 0.48598131 0.48182762 0.49013499 0.50259605\n",
            " 0.50311526 0.49428868 0.5046729  0.51194185 0.49740395 0.49420628\n",
            " 0.49517825 0.49594289 0.49650946 0.49697888 0.49745071 0.49799201\n",
            " 0.49863601 0.49938956 0.50024539 0.50118899]\n",
            "11 day output [[0.5022028]]\n",
            "12 day input [0.51038422 0.52024922 0.52959502 0.54517134 0.54413292 0.54153686\n",
            " 0.53946002 0.53530633 0.54257529 0.54569055 0.52596054 0.43925234\n",
            " 0.4278297  0.42834891 0.41640706 0.40913811 0.41069574 0.41173416\n",
            " 0.40913811 0.40758048 0.41069574 0.43457944 0.44652129 0.44392523\n",
            " 0.44652129 0.43821391 0.43406023 0.43146417 0.43198339 0.4325026\n",
            " 0.43406023 0.42004154 0.42263759 0.43613707 0.42419522 0.42834891\n",
            " 0.42627207 0.43146417 0.45223261 0.44600208 0.44755971 0.45275182\n",
            " 0.46365524 0.46521288 0.46832814 0.4615784  0.46002077 0.43925234\n",
            " 0.4517134  0.4517134  0.44132918 0.44184839 0.46053998 0.46261682\n",
            " 0.44755971 0.45067497 0.4615784  0.4517134  0.43873313 0.44288681\n",
            " 0.42886812 0.44444444 0.45067497 0.45742471 0.46521288 0.47403946\n",
            " 0.47767394 0.48390447 0.47403946 0.47300104 0.4709242  0.48286604\n",
            " 0.47403946 0.51142264 0.52440291 0.53738318 0.56801661 0.55919003\n",
            " 0.48182762 0.48598131 0.48182762 0.49013499 0.50259605 0.50311526\n",
            " 0.49428868 0.5046729  0.51194185 0.49740395 0.49420628 0.49517825\n",
            " 0.49594289 0.49650946 0.49697888 0.49745071 0.49799201 0.49863601\n",
            " 0.49938956 0.50024539 0.50118899 0.50220281]\n",
            "12 day output [[0.50327057]]\n",
            "13 day input [0.52024922 0.52959502 0.54517134 0.54413292 0.54153686 0.53946002\n",
            " 0.53530633 0.54257529 0.54569055 0.52596054 0.43925234 0.4278297\n",
            " 0.42834891 0.41640706 0.40913811 0.41069574 0.41173416 0.40913811\n",
            " 0.40758048 0.41069574 0.43457944 0.44652129 0.44392523 0.44652129\n",
            " 0.43821391 0.43406023 0.43146417 0.43198339 0.4325026  0.43406023\n",
            " 0.42004154 0.42263759 0.43613707 0.42419522 0.42834891 0.42627207\n",
            " 0.43146417 0.45223261 0.44600208 0.44755971 0.45275182 0.46365524\n",
            " 0.46521288 0.46832814 0.4615784  0.46002077 0.43925234 0.4517134\n",
            " 0.4517134  0.44132918 0.44184839 0.46053998 0.46261682 0.44755971\n",
            " 0.45067497 0.4615784  0.4517134  0.43873313 0.44288681 0.42886812\n",
            " 0.44444444 0.45067497 0.45742471 0.46521288 0.47403946 0.47767394\n",
            " 0.48390447 0.47403946 0.47300104 0.4709242  0.48286604 0.47403946\n",
            " 0.51142264 0.52440291 0.53738318 0.56801661 0.55919003 0.48182762\n",
            " 0.48598131 0.48182762 0.49013499 0.50259605 0.50311526 0.49428868\n",
            " 0.5046729  0.51194185 0.49740395 0.49420628 0.49517825 0.49594289\n",
            " 0.49650946 0.49697888 0.49745071 0.49799201 0.49863601 0.49938956\n",
            " 0.50024539 0.50118899 0.50220281 0.50327057]\n",
            "13 day output [[0.50437677]]\n",
            "14 day input [0.52959502 0.54517134 0.54413292 0.54153686 0.53946002 0.53530633\n",
            " 0.54257529 0.54569055 0.52596054 0.43925234 0.4278297  0.42834891\n",
            " 0.41640706 0.40913811 0.41069574 0.41173416 0.40913811 0.40758048\n",
            " 0.41069574 0.43457944 0.44652129 0.44392523 0.44652129 0.43821391\n",
            " 0.43406023 0.43146417 0.43198339 0.4325026  0.43406023 0.42004154\n",
            " 0.42263759 0.43613707 0.42419522 0.42834891 0.42627207 0.43146417\n",
            " 0.45223261 0.44600208 0.44755971 0.45275182 0.46365524 0.46521288\n",
            " 0.46832814 0.4615784  0.46002077 0.43925234 0.4517134  0.4517134\n",
            " 0.44132918 0.44184839 0.46053998 0.46261682 0.44755971 0.45067497\n",
            " 0.4615784  0.4517134  0.43873313 0.44288681 0.42886812 0.44444444\n",
            " 0.45067497 0.45742471 0.46521288 0.47403946 0.47767394 0.48390447\n",
            " 0.47403946 0.47300104 0.4709242  0.48286604 0.47403946 0.51142264\n",
            " 0.52440291 0.53738318 0.56801661 0.55919003 0.48182762 0.48598131\n",
            " 0.48182762 0.49013499 0.50259605 0.50311526 0.49428868 0.5046729\n",
            " 0.51194185 0.49740395 0.49420628 0.49517825 0.49594289 0.49650946\n",
            " 0.49697888 0.49745071 0.49799201 0.49863601 0.49938956 0.50024539\n",
            " 0.50118899 0.50220281 0.50327057 0.50437677]\n",
            "14 day output [[0.5055081]]\n",
            "15 day input [0.54517134 0.54413292 0.54153686 0.53946002 0.53530633 0.54257529\n",
            " 0.54569055 0.52596054 0.43925234 0.4278297  0.42834891 0.41640706\n",
            " 0.40913811 0.41069574 0.41173416 0.40913811 0.40758048 0.41069574\n",
            " 0.43457944 0.44652129 0.44392523 0.44652129 0.43821391 0.43406023\n",
            " 0.43146417 0.43198339 0.4325026  0.43406023 0.42004154 0.42263759\n",
            " 0.43613707 0.42419522 0.42834891 0.42627207 0.43146417 0.45223261\n",
            " 0.44600208 0.44755971 0.45275182 0.46365524 0.46521288 0.46832814\n",
            " 0.4615784  0.46002077 0.43925234 0.4517134  0.4517134  0.44132918\n",
            " 0.44184839 0.46053998 0.46261682 0.44755971 0.45067497 0.4615784\n",
            " 0.4517134  0.43873313 0.44288681 0.42886812 0.44444444 0.45067497\n",
            " 0.45742471 0.46521288 0.47403946 0.47767394 0.48390447 0.47403946\n",
            " 0.47300104 0.4709242  0.48286604 0.47403946 0.51142264 0.52440291\n",
            " 0.53738318 0.56801661 0.55919003 0.48182762 0.48598131 0.48182762\n",
            " 0.49013499 0.50259605 0.50311526 0.49428868 0.5046729  0.51194185\n",
            " 0.49740395 0.49420628 0.49517825 0.49594289 0.49650946 0.49697888\n",
            " 0.49745071 0.49799201 0.49863601 0.49938956 0.50024539 0.50118899\n",
            " 0.50220281 0.50327057 0.50437677 0.50550812]\n",
            "15 day output [[0.5066529]]\n",
            "16 day input [0.54413292 0.54153686 0.53946002 0.53530633 0.54257529 0.54569055\n",
            " 0.52596054 0.43925234 0.4278297  0.42834891 0.41640706 0.40913811\n",
            " 0.41069574 0.41173416 0.40913811 0.40758048 0.41069574 0.43457944\n",
            " 0.44652129 0.44392523 0.44652129 0.43821391 0.43406023 0.43146417\n",
            " 0.43198339 0.4325026  0.43406023 0.42004154 0.42263759 0.43613707\n",
            " 0.42419522 0.42834891 0.42627207 0.43146417 0.45223261 0.44600208\n",
            " 0.44755971 0.45275182 0.46365524 0.46521288 0.46832814 0.4615784\n",
            " 0.46002077 0.43925234 0.4517134  0.4517134  0.44132918 0.44184839\n",
            " 0.46053998 0.46261682 0.44755971 0.45067497 0.4615784  0.4517134\n",
            " 0.43873313 0.44288681 0.42886812 0.44444444 0.45067497 0.45742471\n",
            " 0.46521288 0.47403946 0.47767394 0.48390447 0.47403946 0.47300104\n",
            " 0.4709242  0.48286604 0.47403946 0.51142264 0.52440291 0.53738318\n",
            " 0.56801661 0.55919003 0.48182762 0.48598131 0.48182762 0.49013499\n",
            " 0.50259605 0.50311526 0.49428868 0.5046729  0.51194185 0.49740395\n",
            " 0.49420628 0.49517825 0.49594289 0.49650946 0.49697888 0.49745071\n",
            " 0.49799201 0.49863601 0.49938956 0.50024539 0.50118899 0.50220281\n",
            " 0.50327057 0.50437677 0.50550812 0.50665289]\n",
            "16 day output [[0.50780106]]\n",
            "17 day input [0.54153686 0.53946002 0.53530633 0.54257529 0.54569055 0.52596054\n",
            " 0.43925234 0.4278297  0.42834891 0.41640706 0.40913811 0.41069574\n",
            " 0.41173416 0.40913811 0.40758048 0.41069574 0.43457944 0.44652129\n",
            " 0.44392523 0.44652129 0.43821391 0.43406023 0.43146417 0.43198339\n",
            " 0.4325026  0.43406023 0.42004154 0.42263759 0.43613707 0.42419522\n",
            " 0.42834891 0.42627207 0.43146417 0.45223261 0.44600208 0.44755971\n",
            " 0.45275182 0.46365524 0.46521288 0.46832814 0.4615784  0.46002077\n",
            " 0.43925234 0.4517134  0.4517134  0.44132918 0.44184839 0.46053998\n",
            " 0.46261682 0.44755971 0.45067497 0.4615784  0.4517134  0.43873313\n",
            " 0.44288681 0.42886812 0.44444444 0.45067497 0.45742471 0.46521288\n",
            " 0.47403946 0.47767394 0.48390447 0.47403946 0.47300104 0.4709242\n",
            " 0.48286604 0.47403946 0.51142264 0.52440291 0.53738318 0.56801661\n",
            " 0.55919003 0.48182762 0.48598131 0.48182762 0.49013499 0.50259605\n",
            " 0.50311526 0.49428868 0.5046729  0.51194185 0.49740395 0.49420628\n",
            " 0.49517825 0.49594289 0.49650946 0.49697888 0.49745071 0.49799201\n",
            " 0.49863601 0.49938956 0.50024539 0.50118899 0.50220281 0.50327057\n",
            " 0.50437677 0.50550812 0.50665289 0.50780106]\n",
            "17 day output [[0.5089443]]\n",
            "18 day input [0.53946002 0.53530633 0.54257529 0.54569055 0.52596054 0.43925234\n",
            " 0.4278297  0.42834891 0.41640706 0.40913811 0.41069574 0.41173416\n",
            " 0.40913811 0.40758048 0.41069574 0.43457944 0.44652129 0.44392523\n",
            " 0.44652129 0.43821391 0.43406023 0.43146417 0.43198339 0.4325026\n",
            " 0.43406023 0.42004154 0.42263759 0.43613707 0.42419522 0.42834891\n",
            " 0.42627207 0.43146417 0.45223261 0.44600208 0.44755971 0.45275182\n",
            " 0.46365524 0.46521288 0.46832814 0.4615784  0.46002077 0.43925234\n",
            " 0.4517134  0.4517134  0.44132918 0.44184839 0.46053998 0.46261682\n",
            " 0.44755971 0.45067497 0.4615784  0.4517134  0.43873313 0.44288681\n",
            " 0.42886812 0.44444444 0.45067497 0.45742471 0.46521288 0.47403946\n",
            " 0.47767394 0.48390447 0.47403946 0.47300104 0.4709242  0.48286604\n",
            " 0.47403946 0.51142264 0.52440291 0.53738318 0.56801661 0.55919003\n",
            " 0.48182762 0.48598131 0.48182762 0.49013499 0.50259605 0.50311526\n",
            " 0.49428868 0.5046729  0.51194185 0.49740395 0.49420628 0.49517825\n",
            " 0.49594289 0.49650946 0.49697888 0.49745071 0.49799201 0.49863601\n",
            " 0.49938956 0.50024539 0.50118899 0.50220281 0.50327057 0.50437677\n",
            " 0.50550812 0.50665289 0.50780106 0.50894427]\n",
            "18 day output [[0.5100754]]\n",
            "19 day input [0.53530633 0.54257529 0.54569055 0.52596054 0.43925234 0.4278297\n",
            " 0.42834891 0.41640706 0.40913811 0.41069574 0.41173416 0.40913811\n",
            " 0.40758048 0.41069574 0.43457944 0.44652129 0.44392523 0.44652129\n",
            " 0.43821391 0.43406023 0.43146417 0.43198339 0.4325026  0.43406023\n",
            " 0.42004154 0.42263759 0.43613707 0.42419522 0.42834891 0.42627207\n",
            " 0.43146417 0.45223261 0.44600208 0.44755971 0.45275182 0.46365524\n",
            " 0.46521288 0.46832814 0.4615784  0.46002077 0.43925234 0.4517134\n",
            " 0.4517134  0.44132918 0.44184839 0.46053998 0.46261682 0.44755971\n",
            " 0.45067497 0.4615784  0.4517134  0.43873313 0.44288681 0.42886812\n",
            " 0.44444444 0.45067497 0.45742471 0.46521288 0.47403946 0.47767394\n",
            " 0.48390447 0.47403946 0.47300104 0.4709242  0.48286604 0.47403946\n",
            " 0.51142264 0.52440291 0.53738318 0.56801661 0.55919003 0.48182762\n",
            " 0.48598131 0.48182762 0.49013499 0.50259605 0.50311526 0.49428868\n",
            " 0.5046729  0.51194185 0.49740395 0.49420628 0.49517825 0.49594289\n",
            " 0.49650946 0.49697888 0.49745071 0.49799201 0.49863601 0.49938956\n",
            " 0.50024539 0.50118899 0.50220281 0.50327057 0.50437677 0.50550812\n",
            " 0.50665289 0.50780106 0.50894427 0.51007539]\n",
            "19 day output [[0.511189]]\n",
            "20 day input [0.54257529 0.54569055 0.52596054 0.43925234 0.4278297  0.42834891\n",
            " 0.41640706 0.40913811 0.41069574 0.41173416 0.40913811 0.40758048\n",
            " 0.41069574 0.43457944 0.44652129 0.44392523 0.44652129 0.43821391\n",
            " 0.43406023 0.43146417 0.43198339 0.4325026  0.43406023 0.42004154\n",
            " 0.42263759 0.43613707 0.42419522 0.42834891 0.42627207 0.43146417\n",
            " 0.45223261 0.44600208 0.44755971 0.45275182 0.46365524 0.46521288\n",
            " 0.46832814 0.4615784  0.46002077 0.43925234 0.4517134  0.4517134\n",
            " 0.44132918 0.44184839 0.46053998 0.46261682 0.44755971 0.45067497\n",
            " 0.4615784  0.4517134  0.43873313 0.44288681 0.42886812 0.44444444\n",
            " 0.45067497 0.45742471 0.46521288 0.47403946 0.47767394 0.48390447\n",
            " 0.47403946 0.47300104 0.4709242  0.48286604 0.47403946 0.51142264\n",
            " 0.52440291 0.53738318 0.56801661 0.55919003 0.48182762 0.48598131\n",
            " 0.48182762 0.49013499 0.50259605 0.50311526 0.49428868 0.5046729\n",
            " 0.51194185 0.49740395 0.49420628 0.49517825 0.49594289 0.49650946\n",
            " 0.49697888 0.49745071 0.49799201 0.49863601 0.49938956 0.50024539\n",
            " 0.50118899 0.50220281 0.50327057 0.50437677 0.50550812 0.50665289\n",
            " 0.50780106 0.50894427 0.51007539 0.51118898]\n",
            "20 day output [[0.5122804]]\n",
            "21 day input [0.54569055 0.52596054 0.43925234 0.4278297  0.42834891 0.41640706\n",
            " 0.40913811 0.41069574 0.41173416 0.40913811 0.40758048 0.41069574\n",
            " 0.43457944 0.44652129 0.44392523 0.44652129 0.43821391 0.43406023\n",
            " 0.43146417 0.43198339 0.4325026  0.43406023 0.42004154 0.42263759\n",
            " 0.43613707 0.42419522 0.42834891 0.42627207 0.43146417 0.45223261\n",
            " 0.44600208 0.44755971 0.45275182 0.46365524 0.46521288 0.46832814\n",
            " 0.4615784  0.46002077 0.43925234 0.4517134  0.4517134  0.44132918\n",
            " 0.44184839 0.46053998 0.46261682 0.44755971 0.45067497 0.4615784\n",
            " 0.4517134  0.43873313 0.44288681 0.42886812 0.44444444 0.45067497\n",
            " 0.45742471 0.46521288 0.47403946 0.47767394 0.48390447 0.47403946\n",
            " 0.47300104 0.4709242  0.48286604 0.47403946 0.51142264 0.52440291\n",
            " 0.53738318 0.56801661 0.55919003 0.48182762 0.48598131 0.48182762\n",
            " 0.49013499 0.50259605 0.50311526 0.49428868 0.5046729  0.51194185\n",
            " 0.49740395 0.49420628 0.49517825 0.49594289 0.49650946 0.49697888\n",
            " 0.49745071 0.49799201 0.49863601 0.49938956 0.50024539 0.50118899\n",
            " 0.50220281 0.50327057 0.50437677 0.50550812 0.50665289 0.50780106\n",
            " 0.50894427 0.51007539 0.51118898 0.5122804 ]\n",
            "21 day output [[0.51334655]]\n",
            "22 day input [0.52596054 0.43925234 0.4278297  0.42834891 0.41640706 0.40913811\n",
            " 0.41069574 0.41173416 0.40913811 0.40758048 0.41069574 0.43457944\n",
            " 0.44652129 0.44392523 0.44652129 0.43821391 0.43406023 0.43146417\n",
            " 0.43198339 0.4325026  0.43406023 0.42004154 0.42263759 0.43613707\n",
            " 0.42419522 0.42834891 0.42627207 0.43146417 0.45223261 0.44600208\n",
            " 0.44755971 0.45275182 0.46365524 0.46521288 0.46832814 0.4615784\n",
            " 0.46002077 0.43925234 0.4517134  0.4517134  0.44132918 0.44184839\n",
            " 0.46053998 0.46261682 0.44755971 0.45067497 0.4615784  0.4517134\n",
            " 0.43873313 0.44288681 0.42886812 0.44444444 0.45067497 0.45742471\n",
            " 0.46521288 0.47403946 0.47767394 0.48390447 0.47403946 0.47300104\n",
            " 0.4709242  0.48286604 0.47403946 0.51142264 0.52440291 0.53738318\n",
            " 0.56801661 0.55919003 0.48182762 0.48598131 0.48182762 0.49013499\n",
            " 0.50259605 0.50311526 0.49428868 0.5046729  0.51194185 0.49740395\n",
            " 0.49420628 0.49517825 0.49594289 0.49650946 0.49697888 0.49745071\n",
            " 0.49799201 0.49863601 0.49938956 0.50024539 0.50118899 0.50220281\n",
            " 0.50327057 0.50437677 0.50550812 0.50665289 0.50780106 0.50894427\n",
            " 0.51007539 0.51118898 0.5122804  0.51334655]\n",
            "22 day output [[0.5143856]]\n",
            "23 day input [0.43925234 0.4278297  0.42834891 0.41640706 0.40913811 0.41069574\n",
            " 0.41173416 0.40913811 0.40758048 0.41069574 0.43457944 0.44652129\n",
            " 0.44392523 0.44652129 0.43821391 0.43406023 0.43146417 0.43198339\n",
            " 0.4325026  0.43406023 0.42004154 0.42263759 0.43613707 0.42419522\n",
            " 0.42834891 0.42627207 0.43146417 0.45223261 0.44600208 0.44755971\n",
            " 0.45275182 0.46365524 0.46521288 0.46832814 0.4615784  0.46002077\n",
            " 0.43925234 0.4517134  0.4517134  0.44132918 0.44184839 0.46053998\n",
            " 0.46261682 0.44755971 0.45067497 0.4615784  0.4517134  0.43873313\n",
            " 0.44288681 0.42886812 0.44444444 0.45067497 0.45742471 0.46521288\n",
            " 0.47403946 0.47767394 0.48390447 0.47403946 0.47300104 0.4709242\n",
            " 0.48286604 0.47403946 0.51142264 0.52440291 0.53738318 0.56801661\n",
            " 0.55919003 0.48182762 0.48598131 0.48182762 0.49013499 0.50259605\n",
            " 0.50311526 0.49428868 0.5046729  0.51194185 0.49740395 0.49420628\n",
            " 0.49517825 0.49594289 0.49650946 0.49697888 0.49745071 0.49799201\n",
            " 0.49863601 0.49938956 0.50024539 0.50118899 0.50220281 0.50327057\n",
            " 0.50437677 0.50550812 0.50665289 0.50780106 0.50894427 0.51007539\n",
            " 0.51118898 0.5122804  0.51334655 0.51438558]\n",
            "23 day output [[0.51539606]]\n",
            "24 day input [0.4278297  0.42834891 0.41640706 0.40913811 0.41069574 0.41173416\n",
            " 0.40913811 0.40758048 0.41069574 0.43457944 0.44652129 0.44392523\n",
            " 0.44652129 0.43821391 0.43406023 0.43146417 0.43198339 0.4325026\n",
            " 0.43406023 0.42004154 0.42263759 0.43613707 0.42419522 0.42834891\n",
            " 0.42627207 0.43146417 0.45223261 0.44600208 0.44755971 0.45275182\n",
            " 0.46365524 0.46521288 0.46832814 0.4615784  0.46002077 0.43925234\n",
            " 0.4517134  0.4517134  0.44132918 0.44184839 0.46053998 0.46261682\n",
            " 0.44755971 0.45067497 0.4615784  0.4517134  0.43873313 0.44288681\n",
            " 0.42886812 0.44444444 0.45067497 0.45742471 0.46521288 0.47403946\n",
            " 0.47767394 0.48390447 0.47403946 0.47300104 0.4709242  0.48286604\n",
            " 0.47403946 0.51142264 0.52440291 0.53738318 0.56801661 0.55919003\n",
            " 0.48182762 0.48598131 0.48182762 0.49013499 0.50259605 0.50311526\n",
            " 0.49428868 0.5046729  0.51194185 0.49740395 0.49420628 0.49517825\n",
            " 0.49594289 0.49650946 0.49697888 0.49745071 0.49799201 0.49863601\n",
            " 0.49938956 0.50024539 0.50118899 0.50220281 0.50327057 0.50437677\n",
            " 0.50550812 0.50665289 0.50780106 0.50894427 0.51007539 0.51118898\n",
            " 0.5122804  0.51334655 0.51438558 0.51539606]\n",
            "24 day output [[0.516378]]\n",
            "25 day input [0.42834891 0.41640706 0.40913811 0.41069574 0.41173416 0.40913811\n",
            " 0.40758048 0.41069574 0.43457944 0.44652129 0.44392523 0.44652129\n",
            " 0.43821391 0.43406023 0.43146417 0.43198339 0.4325026  0.43406023\n",
            " 0.42004154 0.42263759 0.43613707 0.42419522 0.42834891 0.42627207\n",
            " 0.43146417 0.45223261 0.44600208 0.44755971 0.45275182 0.46365524\n",
            " 0.46521288 0.46832814 0.4615784  0.46002077 0.43925234 0.4517134\n",
            " 0.4517134  0.44132918 0.44184839 0.46053998 0.46261682 0.44755971\n",
            " 0.45067497 0.4615784  0.4517134  0.43873313 0.44288681 0.42886812\n",
            " 0.44444444 0.45067497 0.45742471 0.46521288 0.47403946 0.47767394\n",
            " 0.48390447 0.47403946 0.47300104 0.4709242  0.48286604 0.47403946\n",
            " 0.51142264 0.52440291 0.53738318 0.56801661 0.55919003 0.48182762\n",
            " 0.48598131 0.48182762 0.49013499 0.50259605 0.50311526 0.49428868\n",
            " 0.5046729  0.51194185 0.49740395 0.49420628 0.49517825 0.49594289\n",
            " 0.49650946 0.49697888 0.49745071 0.49799201 0.49863601 0.49938956\n",
            " 0.50024539 0.50118899 0.50220281 0.50327057 0.50437677 0.50550812\n",
            " 0.50665289 0.50780106 0.50894427 0.51007539 0.51118898 0.5122804\n",
            " 0.51334655 0.51438558 0.51539606 0.51637799]\n",
            "25 day output [[0.5173319]]\n",
            "26 day input [0.41640706 0.40913811 0.41069574 0.41173416 0.40913811 0.40758048\n",
            " 0.41069574 0.43457944 0.44652129 0.44392523 0.44652129 0.43821391\n",
            " 0.43406023 0.43146417 0.43198339 0.4325026  0.43406023 0.42004154\n",
            " 0.42263759 0.43613707 0.42419522 0.42834891 0.42627207 0.43146417\n",
            " 0.45223261 0.44600208 0.44755971 0.45275182 0.46365524 0.46521288\n",
            " 0.46832814 0.4615784  0.46002077 0.43925234 0.4517134  0.4517134\n",
            " 0.44132918 0.44184839 0.46053998 0.46261682 0.44755971 0.45067497\n",
            " 0.4615784  0.4517134  0.43873313 0.44288681 0.42886812 0.44444444\n",
            " 0.45067497 0.45742471 0.46521288 0.47403946 0.47767394 0.48390447\n",
            " 0.47403946 0.47300104 0.4709242  0.48286604 0.47403946 0.51142264\n",
            " 0.52440291 0.53738318 0.56801661 0.55919003 0.48182762 0.48598131\n",
            " 0.48182762 0.49013499 0.50259605 0.50311526 0.49428868 0.5046729\n",
            " 0.51194185 0.49740395 0.49420628 0.49517825 0.49594289 0.49650946\n",
            " 0.49697888 0.49745071 0.49799201 0.49863601 0.49938956 0.50024539\n",
            " 0.50118899 0.50220281 0.50327057 0.50437677 0.50550812 0.50665289\n",
            " 0.50780106 0.50894427 0.51007539 0.51118898 0.5122804  0.51334655\n",
            " 0.51438558 0.51539606 0.51637799 0.5173319 ]\n",
            "26 day output [[0.5182589]]\n",
            "27 day input [0.40913811 0.41069574 0.41173416 0.40913811 0.40758048 0.41069574\n",
            " 0.43457944 0.44652129 0.44392523 0.44652129 0.43821391 0.43406023\n",
            " 0.43146417 0.43198339 0.4325026  0.43406023 0.42004154 0.42263759\n",
            " 0.43613707 0.42419522 0.42834891 0.42627207 0.43146417 0.45223261\n",
            " 0.44600208 0.44755971 0.45275182 0.46365524 0.46521288 0.46832814\n",
            " 0.4615784  0.46002077 0.43925234 0.4517134  0.4517134  0.44132918\n",
            " 0.44184839 0.46053998 0.46261682 0.44755971 0.45067497 0.4615784\n",
            " 0.4517134  0.43873313 0.44288681 0.42886812 0.44444444 0.45067497\n",
            " 0.45742471 0.46521288 0.47403946 0.47767394 0.48390447 0.47403946\n",
            " 0.47300104 0.4709242  0.48286604 0.47403946 0.51142264 0.52440291\n",
            " 0.53738318 0.56801661 0.55919003 0.48182762 0.48598131 0.48182762\n",
            " 0.49013499 0.50259605 0.50311526 0.49428868 0.5046729  0.51194185\n",
            " 0.49740395 0.49420628 0.49517825 0.49594289 0.49650946 0.49697888\n",
            " 0.49745071 0.49799201 0.49863601 0.49938956 0.50024539 0.50118899\n",
            " 0.50220281 0.50327057 0.50437677 0.50550812 0.50665289 0.50780106\n",
            " 0.50894427 0.51007539 0.51118898 0.5122804  0.51334655 0.51438558\n",
            " 0.51539606 0.51637799 0.5173319  0.51825893]\n",
            "27 day output [[0.51916075]]\n",
            "28 day input [0.41069574 0.41173416 0.40913811 0.40758048 0.41069574 0.43457944\n",
            " 0.44652129 0.44392523 0.44652129 0.43821391 0.43406023 0.43146417\n",
            " 0.43198339 0.4325026  0.43406023 0.42004154 0.42263759 0.43613707\n",
            " 0.42419522 0.42834891 0.42627207 0.43146417 0.45223261 0.44600208\n",
            " 0.44755971 0.45275182 0.46365524 0.46521288 0.46832814 0.4615784\n",
            " 0.46002077 0.43925234 0.4517134  0.4517134  0.44132918 0.44184839\n",
            " 0.46053998 0.46261682 0.44755971 0.45067497 0.4615784  0.4517134\n",
            " 0.43873313 0.44288681 0.42886812 0.44444444 0.45067497 0.45742471\n",
            " 0.46521288 0.47403946 0.47767394 0.48390447 0.47403946 0.47300104\n",
            " 0.4709242  0.48286604 0.47403946 0.51142264 0.52440291 0.53738318\n",
            " 0.56801661 0.55919003 0.48182762 0.48598131 0.48182762 0.49013499\n",
            " 0.50259605 0.50311526 0.49428868 0.5046729  0.51194185 0.49740395\n",
            " 0.49420628 0.49517825 0.49594289 0.49650946 0.49697888 0.49745071\n",
            " 0.49799201 0.49863601 0.49938956 0.50024539 0.50118899 0.50220281\n",
            " 0.50327057 0.50437677 0.50550812 0.50665289 0.50780106 0.50894427\n",
            " 0.51007539 0.51118898 0.5122804  0.51334655 0.51438558 0.51539606\n",
            " 0.51637799 0.5173319  0.51825893 0.51916075]\n",
            "28 day output [[0.5200394]]\n",
            "29 day input [0.41173416 0.40913811 0.40758048 0.41069574 0.43457944 0.44652129\n",
            " 0.44392523 0.44652129 0.43821391 0.43406023 0.43146417 0.43198339\n",
            " 0.4325026  0.43406023 0.42004154 0.42263759 0.43613707 0.42419522\n",
            " 0.42834891 0.42627207 0.43146417 0.45223261 0.44600208 0.44755971\n",
            " 0.45275182 0.46365524 0.46521288 0.46832814 0.4615784  0.46002077\n",
            " 0.43925234 0.4517134  0.4517134  0.44132918 0.44184839 0.46053998\n",
            " 0.46261682 0.44755971 0.45067497 0.4615784  0.4517134  0.43873313\n",
            " 0.44288681 0.42886812 0.44444444 0.45067497 0.45742471 0.46521288\n",
            " 0.47403946 0.47767394 0.48390447 0.47403946 0.47300104 0.4709242\n",
            " 0.48286604 0.47403946 0.51142264 0.52440291 0.53738318 0.56801661\n",
            " 0.55919003 0.48182762 0.48598131 0.48182762 0.49013499 0.50259605\n",
            " 0.50311526 0.49428868 0.5046729  0.51194185 0.49740395 0.49420628\n",
            " 0.49517825 0.49594289 0.49650946 0.49697888 0.49745071 0.49799201\n",
            " 0.49863601 0.49938956 0.50024539 0.50118899 0.50220281 0.50327057\n",
            " 0.50437677 0.50550812 0.50665289 0.50780106 0.50894427 0.51007539\n",
            " 0.51118898 0.5122804  0.51334655 0.51438558 0.51539606 0.51637799\n",
            " 0.5173319  0.51825893 0.51916075 0.52003938]\n",
            "29 day output [[0.5208974]]\n"
          ]
        }
      ]
    },
    {
      "cell_type": "code",
      "source": [
        "print()"
      ],
      "metadata": {
        "id": "qM-v6VayTn1m"
      },
      "execution_count": null,
      "outputs": []
    },
    {
      "cell_type": "code",
      "source": [
        "day_new=np.arange(1,101)\n",
        "day_pred=np.arange(101,131)"
      ],
      "metadata": {
        "id": "3yOjMFE9UCT-"
      },
      "execution_count": null,
      "outputs": []
    },
    {
      "cell_type": "code",
      "source": [
        "#import matplotlib.pyplot as plt"
      ],
      "metadata": {
        "id": "zjq7s-oDUEWh"
      },
      "execution_count": null,
      "outputs": []
    },
    {
      "cell_type": "code",
      "source": [
        "len(df1)"
      ],
      "metadata": {
        "colab": {
          "base_uri": "https://localhost:8080/"
        },
        "id": "8N_rRqrQUGkC",
        "outputId": "a47a35c5-e9dd-4503-8f1d-cc1181371c5d"
      },
      "execution_count": null,
      "outputs": [
        {
          "output_type": "execute_result",
          "data": {
            "text/plain": [
              "1256"
            ]
          },
          "metadata": {},
          "execution_count": 61
        }
      ]
    },
    {
      "cell_type": "code",
      "source": [
        "plt.plot(day_new,scaler.inverse_transform(df1[1156:]),label='Stock data')\n",
        "plt.plot(day_pred,scaler.inverse_transform(lst_output),label='29 day prediction')\n",
        "plt.xlabel('Days')\n",
        "plt.ylabel('Closing Stock Price($)')\n",
        "plt.title('Plots with Legend')\n",
        "\n",
        "plt.legend()\n",
        "\n",
        "plt.show()"
      ],
      "metadata": {
        "colab": {
          "base_uri": "https://localhost:8080/",
          "height": 472
        },
        "id": "DAm-sR_8UQb2",
        "outputId": "33333300-504c-40dc-bffa-a9fd9c8629a9"
      },
      "execution_count": null,
      "outputs": [
        {
          "output_type": "display_data",
          "data": {
            "text/plain": [
              "<Figure size 640x480 with 1 Axes>"
            ],
            "image/png": "[encoded data removed]"
          },
          "metadata": {}
        }
      ]
    },
    {
      "cell_type": "code",
      "source": [],
      "metadata": {
        "id": "mBJraAInUXGV"
      },
      "execution_count": null,
      "outputs": []
    }
  ]
}